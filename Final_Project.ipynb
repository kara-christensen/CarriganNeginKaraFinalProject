{
 "cells": [
  {
   "cell_type": "code",
   "execution_count": 1,
   "metadata": {
    "id": "i2dsN0NdysAB"
   },
   "outputs": [],
   "source": [
    "# Import the libraries we'll use below.\n",
    "import numpy as np\n",
    "from matplotlib import pyplot as plt\n",
    "import pandas as pd\n",
    "import seaborn as sns  # for nicer plots\n",
    "sns.set(style=\"darkgrid\")  # default style\n",
    "\n",
    "import tensorflow as tf\n",
    "from tensorflow import keras\n",
    "from keras import metrics\n",
    "from sklearn.model_selection import train_test_split\n",
    "tf.get_logger().setLevel('INFO')\n",
    "\n",
    "import os\n",
    "from os import listdir\n",
    "from PIL import Image"
   ]
  },
  {
   "cell_type": "code",
   "execution_count": 2,
   "metadata": {
    "id": "n-wvLSpkzGY5"
   },
   "outputs": [],
   "source": [
    "df = pd.read_csv('KidneyImages/kidneyData.csv')"
   ]
  },
  {
   "cell_type": "code",
   "execution_count": 5,
   "metadata": {
    "colab": {
     "base_uri": "https://localhost:8080/",
     "height": 419
    },
    "id": "ydav9VmY0JNs",
    "outputId": "5083a436-fa8f-48ac-eb07-6e0afd72c5cd"
   },
   "outputs": [
    {
     "data": {
      "text/html": [
       "<div>\n",
       "<style scoped>\n",
       "    .dataframe tbody tr th:only-of-type {\n",
       "        vertical-align: middle;\n",
       "    }\n",
       "\n",
       "    .dataframe tbody tr th {\n",
       "        vertical-align: top;\n",
       "    }\n",
       "\n",
       "    .dataframe thead th {\n",
       "        text-align: right;\n",
       "    }\n",
       "</style>\n",
       "<table border=\"1\" class=\"dataframe\">\n",
       "  <thead>\n",
       "    <tr style=\"text-align: right;\">\n",
       "      <th></th>\n",
       "      <th>Unnamed: 0</th>\n",
       "      <th>image_id</th>\n",
       "      <th>path</th>\n",
       "      <th>diag</th>\n",
       "      <th>target</th>\n",
       "      <th>Class</th>\n",
       "    </tr>\n",
       "  </thead>\n",
       "  <tbody>\n",
       "    <tr>\n",
       "      <th>0</th>\n",
       "      <td>0</td>\n",
       "      <td>Tumor- (1044)</td>\n",
       "      <td>/content/data/CT KIDNEY DATASET Normal, CYST, ...</td>\n",
       "      <td>Tumor</td>\n",
       "      <td>3</td>\n",
       "      <td>Tumor</td>\n",
       "    </tr>\n",
       "    <tr>\n",
       "      <th>1</th>\n",
       "      <td>1</td>\n",
       "      <td>Tumor- (83)</td>\n",
       "      <td>/content/data/CT KIDNEY DATASET Normal, CYST, ...</td>\n",
       "      <td>Tumor</td>\n",
       "      <td>3</td>\n",
       "      <td>Tumor</td>\n",
       "    </tr>\n",
       "    <tr>\n",
       "      <th>2</th>\n",
       "      <td>2</td>\n",
       "      <td>Tumor- (580)</td>\n",
       "      <td>/content/data/CT KIDNEY DATASET Normal, CYST, ...</td>\n",
       "      <td>Tumor</td>\n",
       "      <td>3</td>\n",
       "      <td>Tumor</td>\n",
       "    </tr>\n",
       "    <tr>\n",
       "      <th>3</th>\n",
       "      <td>3</td>\n",
       "      <td>Tumor- (1701)</td>\n",
       "      <td>/content/data/CT KIDNEY DATASET Normal, CYST, ...</td>\n",
       "      <td>Tumor</td>\n",
       "      <td>3</td>\n",
       "      <td>Tumor</td>\n",
       "    </tr>\n",
       "    <tr>\n",
       "      <th>4</th>\n",
       "      <td>4</td>\n",
       "      <td>Tumor- (1220)</td>\n",
       "      <td>/content/data/CT KIDNEY DATASET Normal, CYST, ...</td>\n",
       "      <td>Tumor</td>\n",
       "      <td>3</td>\n",
       "      <td>Tumor</td>\n",
       "    </tr>\n",
       "    <tr>\n",
       "      <th>...</th>\n",
       "      <td>...</td>\n",
       "      <td>...</td>\n",
       "      <td>...</td>\n",
       "      <td>...</td>\n",
       "      <td>...</td>\n",
       "      <td>...</td>\n",
       "    </tr>\n",
       "    <tr>\n",
       "      <th>12441</th>\n",
       "      <td>12441</td>\n",
       "      <td>Cyst- (2522)</td>\n",
       "      <td>/content/data/CT KIDNEY DATASET Normal, CYST, ...</td>\n",
       "      <td>Cyst</td>\n",
       "      <td>0</td>\n",
       "      <td>Cyst</td>\n",
       "    </tr>\n",
       "    <tr>\n",
       "      <th>12442</th>\n",
       "      <td>12442</td>\n",
       "      <td>Cyst- (2627)</td>\n",
       "      <td>/content/data/CT KIDNEY DATASET Normal, CYST, ...</td>\n",
       "      <td>Cyst</td>\n",
       "      <td>0</td>\n",
       "      <td>Cyst</td>\n",
       "    </tr>\n",
       "    <tr>\n",
       "      <th>12443</th>\n",
       "      <td>12443</td>\n",
       "      <td>Cyst- (972)</td>\n",
       "      <td>/content/data/CT KIDNEY DATASET Normal, CYST, ...</td>\n",
       "      <td>Cyst</td>\n",
       "      <td>0</td>\n",
       "      <td>Cyst</td>\n",
       "    </tr>\n",
       "    <tr>\n",
       "      <th>12444</th>\n",
       "      <td>12444</td>\n",
       "      <td>Cyst- (2323)</td>\n",
       "      <td>/content/data/CT KIDNEY DATASET Normal, CYST, ...</td>\n",
       "      <td>Cyst</td>\n",
       "      <td>0</td>\n",
       "      <td>Cyst</td>\n",
       "    </tr>\n",
       "    <tr>\n",
       "      <th>12445</th>\n",
       "      <td>12445</td>\n",
       "      <td>Cyst- (2145)</td>\n",
       "      <td>/content/data/CT KIDNEY DATASET Normal, CYST, ...</td>\n",
       "      <td>Cyst</td>\n",
       "      <td>0</td>\n",
       "      <td>Cyst</td>\n",
       "    </tr>\n",
       "  </tbody>\n",
       "</table>\n",
       "<p>12446 rows × 6 columns</p>\n",
       "</div>"
      ],
      "text/plain": [
       "       Unnamed: 0       image_id  \\\n",
       "0               0  Tumor- (1044)   \n",
       "1               1    Tumor- (83)   \n",
       "2               2   Tumor- (580)   \n",
       "3               3  Tumor- (1701)   \n",
       "4               4  Tumor- (1220)   \n",
       "...           ...            ...   \n",
       "12441       12441   Cyst- (2522)   \n",
       "12442       12442   Cyst- (2627)   \n",
       "12443       12443    Cyst- (972)   \n",
       "12444       12444   Cyst- (2323)   \n",
       "12445       12445   Cyst- (2145)   \n",
       "\n",
       "                                                    path   diag  target  Class  \n",
       "0      /content/data/CT KIDNEY DATASET Normal, CYST, ...  Tumor       3  Tumor  \n",
       "1      /content/data/CT KIDNEY DATASET Normal, CYST, ...  Tumor       3  Tumor  \n",
       "2      /content/data/CT KIDNEY DATASET Normal, CYST, ...  Tumor       3  Tumor  \n",
       "3      /content/data/CT KIDNEY DATASET Normal, CYST, ...  Tumor       3  Tumor  \n",
       "4      /content/data/CT KIDNEY DATASET Normal, CYST, ...  Tumor       3  Tumor  \n",
       "...                                                  ...    ...     ...    ...  \n",
       "12441  /content/data/CT KIDNEY DATASET Normal, CYST, ...   Cyst       0   Cyst  \n",
       "12442  /content/data/CT KIDNEY DATASET Normal, CYST, ...   Cyst       0   Cyst  \n",
       "12443  /content/data/CT KIDNEY DATASET Normal, CYST, ...   Cyst       0   Cyst  \n",
       "12444  /content/data/CT KIDNEY DATASET Normal, CYST, ...   Cyst       0   Cyst  \n",
       "12445  /content/data/CT KIDNEY DATASET Normal, CYST, ...   Cyst       0   Cyst  \n",
       "\n",
       "[12446 rows x 6 columns]"
      ]
     },
     "metadata": {},
     "output_type": "display_data"
    }
   ],
   "source": [
    "display(df)"
   ]
  },
  {
   "cell_type": "code",
   "execution_count": 142,
   "metadata": {},
   "outputs": [],
   "source": [
    "newsize = (256, 256)"
   ]
  },
  {
   "cell_type": "code",
   "execution_count": 143,
   "metadata": {
    "id": "C0h3ndqZEsXT"
   },
   "outputs": [],
   "source": [
    "## Read in all images\n",
    "# First, read in all cyst images\n",
    "\n",
    "cystImages = []\n",
    "\n",
    "# Get the correct folder of images\n",
    "folder_dir = \"KidneyImages/CT-KIDNEY-DATASET-Normal-Cyst-Tumor-Stone/CT-KIDNEY-DATASET-Normal-Cyst-Tumor-Stone/Cyst\"\n",
    "\n",
    "\n",
    "for images in os.listdir(folder_dir): # For each item in the folder\n",
    "    if (images.endswith(\".jpg\")): # If it is a jpg\n",
    "        image = Image.open(folder_dir + '/' + images) # Open the image\n",
    "        image = image.resize(newsize) # Resize it to 256x256\n",
    "        npImage = np.asarray(image) # Turn it into an array\n",
    "        reshapedImage = npImage[:, :, 0] # Get rid of the last two color values (since it is black and white)\n",
    "        cystImages.append({'image_id': images[:-4], 'image': reshapedImage}) # Add the information to the dictionary"
   ]
  },
  {
   "cell_type": "code",
   "execution_count": 144,
   "metadata": {
    "id": "Nz5nTPfA8XzJ"
   },
   "outputs": [],
   "source": [
    "# Then all normal images\n",
    "normalImages = []\n",
    "\n",
    "folder_dir = \"KidneyImages/CT-KIDNEY-DATASET-Normal-Cyst-Tumor-Stone/CT-KIDNEY-DATASET-Normal-Cyst-Tumor-Stone/Normal\"\n",
    "\n",
    "\n",
    "for images in os.listdir(folder_dir):\n",
    "    if (images.endswith(\".jpg\")):\n",
    "        image = Image.open(folder_dir + '/' + images)\n",
    "        image = image.resize(newsize)\n",
    "        npImage = np.asarray(image)\n",
    "        reshapedImage = npImage[:, :, 0]\n",
    "\n",
    "        normalImages.append({'image_id': images[:-4], 'image': reshapedImage})"
   ]
  },
  {
   "cell_type": "code",
   "execution_count": 145,
   "metadata": {
    "id": "Nynum1gE84tY"
   },
   "outputs": [],
   "source": [
    "# Then all stone images\n",
    "stoneImages = []\n",
    "\n",
    "folder_dir = \"KidneyImages/CT-KIDNEY-DATASET-Normal-Cyst-Tumor-Stone/CT-KIDNEY-DATASET-Normal-Cyst-Tumor-Stone/Stone\"\n",
    "\n",
    "\n",
    "for images in os.listdir(folder_dir):\n",
    "    if (images.endswith(\".jpg\")):\n",
    "        image = Image.open(folder_dir + '/' + images)\n",
    "        image = image.resize(newsize)\n",
    "        npImage = np.asarray(image)\n",
    "        reshapedImage = npImage[:, :, 0]\n",
    "\n",
    "        stoneImages.append({'image_id': images[:-4], 'image': reshapedImage})"
   ]
  },
  {
   "cell_type": "code",
   "execution_count": 146,
   "metadata": {
    "id": "i_nlQuIx-J-e"
   },
   "outputs": [],
   "source": [
    "# Then all tumor images\n",
    "tumorImages = []\n",
    "\n",
    "folder_dir = \"KidneyImages/CT-KIDNEY-DATASET-Normal-Cyst-Tumor-Stone/CT-KIDNEY-DATASET-Normal-Cyst-Tumor-Stone/Tumor\"\n",
    "\n",
    "\n",
    "for images in os.listdir(folder_dir):\n",
    "    if (images.endswith(\".jpg\")):\n",
    "        image = Image.open(folder_dir + '/' + images)\n",
    "        image = image.resize(newsize)\n",
    "        reshapedImage = npImage[:, :, 0]\n",
    "        npImage = np.asarray(image)\n",
    "\n",
    "        tumorImages.append({'image_id': images[:-4], 'image': reshapedImage})"
   ]
  },
  {
   "cell_type": "code",
   "execution_count": 147,
   "metadata": {
    "id": "TrW3hRCtizO3"
   },
   "outputs": [],
   "source": [
    "# Concatenate all list of images, and turn into a data frame\n",
    "\n",
    "allImages = cystImages + stoneImages + normalImages + tumorImages\n",
    "\n",
    "imgs = pd.DataFrame(allImages)"
   ]
  },
  {
   "cell_type": "code",
   "execution_count": 148,
   "metadata": {},
   "outputs": [
    {
     "data": {
      "text/html": [
       "<div>\n",
       "<style scoped>\n",
       "    .dataframe tbody tr th:only-of-type {\n",
       "        vertical-align: middle;\n",
       "    }\n",
       "\n",
       "    .dataframe tbody tr th {\n",
       "        vertical-align: top;\n",
       "    }\n",
       "\n",
       "    .dataframe thead th {\n",
       "        text-align: right;\n",
       "    }\n",
       "</style>\n",
       "<table border=\"1\" class=\"dataframe\">\n",
       "  <thead>\n",
       "    <tr style=\"text-align: right;\">\n",
       "      <th></th>\n",
       "      <th>image_id</th>\n",
       "      <th>image</th>\n",
       "    </tr>\n",
       "  </thead>\n",
       "  <tbody>\n",
       "    <tr>\n",
       "      <th>0</th>\n",
       "      <td>Cyst- (630)</td>\n",
       "      <td>[[0, 0, 0, 0, 0, 0, 0, 0, 0, 0, 0, 0, 0, 0, 0,...</td>\n",
       "    </tr>\n",
       "    <tr>\n",
       "      <th>1</th>\n",
       "      <td>Cyst- (260)</td>\n",
       "      <td>[[0, 0, 0, 0, 0, 0, 0, 0, 0, 0, 0, 0, 0, 0, 0,...</td>\n",
       "    </tr>\n",
       "    <tr>\n",
       "      <th>2</th>\n",
       "      <td>Cyst- (1631)</td>\n",
       "      <td>[[0, 0, 0, 0, 0, 0, 0, 0, 0, 0, 0, 0, 0, 0, 0,...</td>\n",
       "    </tr>\n",
       "    <tr>\n",
       "      <th>3</th>\n",
       "      <td>Cyst- (1261)</td>\n",
       "      <td>[[0, 0, 0, 0, 0, 0, 0, 0, 0, 0, 0, 0, 0, 0, 0,...</td>\n",
       "    </tr>\n",
       "    <tr>\n",
       "      <th>4</th>\n",
       "      <td>Cyst- (1774)</td>\n",
       "      <td>[[0, 0, 0, 0, 0, 0, 0, 0, 0, 0, 0, 0, 0, 0, 0,...</td>\n",
       "    </tr>\n",
       "    <tr>\n",
       "      <th>...</th>\n",
       "      <td>...</td>\n",
       "      <td>...</td>\n",
       "    </tr>\n",
       "    <tr>\n",
       "      <th>12441</th>\n",
       "      <td>Tumor- (209)</td>\n",
       "      <td>[[0, 0, 0, 0, 0, 0, 0, 0, 0, 0, 0, 0, 0, 0, 0,...</td>\n",
       "    </tr>\n",
       "    <tr>\n",
       "      <th>12442</th>\n",
       "      <td>Tumor- (1390)</td>\n",
       "      <td>[[0, 0, 0, 0, 0, 0, 0, 0, 0, 0, 0, 0, 0, 0, 0,...</td>\n",
       "    </tr>\n",
       "    <tr>\n",
       "      <th>12443</th>\n",
       "      <td>Tumor- (659)</td>\n",
       "      <td>[[0, 0, 0, 0, 0, 0, 0, 0, 0, 0, 0, 0, 0, 0, 0,...</td>\n",
       "    </tr>\n",
       "    <tr>\n",
       "      <th>12444</th>\n",
       "      <td>Tumor- (1685)</td>\n",
       "      <td>[[0, 0, 0, 0, 0, 0, 0, 0, 0, 0, 0, 0, 0, 0, 0,...</td>\n",
       "    </tr>\n",
       "    <tr>\n",
       "      <th>12445</th>\n",
       "      <td>Tumor- (2103)</td>\n",
       "      <td>[[0, 0, 0, 0, 0, 0, 0, 0, 0, 0, 0, 0, 0, 0, 0,...</td>\n",
       "    </tr>\n",
       "  </tbody>\n",
       "</table>\n",
       "<p>12446 rows × 2 columns</p>\n",
       "</div>"
      ],
      "text/plain": [
       "            image_id                                              image\n",
       "0        Cyst- (630)  [[0, 0, 0, 0, 0, 0, 0, 0, 0, 0, 0, 0, 0, 0, 0,...\n",
       "1        Cyst- (260)  [[0, 0, 0, 0, 0, 0, 0, 0, 0, 0, 0, 0, 0, 0, 0,...\n",
       "2       Cyst- (1631)  [[0, 0, 0, 0, 0, 0, 0, 0, 0, 0, 0, 0, 0, 0, 0,...\n",
       "3       Cyst- (1261)  [[0, 0, 0, 0, 0, 0, 0, 0, 0, 0, 0, 0, 0, 0, 0,...\n",
       "4       Cyst- (1774)  [[0, 0, 0, 0, 0, 0, 0, 0, 0, 0, 0, 0, 0, 0, 0,...\n",
       "...              ...                                                ...\n",
       "12441   Tumor- (209)  [[0, 0, 0, 0, 0, 0, 0, 0, 0, 0, 0, 0, 0, 0, 0,...\n",
       "12442  Tumor- (1390)  [[0, 0, 0, 0, 0, 0, 0, 0, 0, 0, 0, 0, 0, 0, 0,...\n",
       "12443   Tumor- (659)  [[0, 0, 0, 0, 0, 0, 0, 0, 0, 0, 0, 0, 0, 0, 0,...\n",
       "12444  Tumor- (1685)  [[0, 0, 0, 0, 0, 0, 0, 0, 0, 0, 0, 0, 0, 0, 0,...\n",
       "12445  Tumor- (2103)  [[0, 0, 0, 0, 0, 0, 0, 0, 0, 0, 0, 0, 0, 0, 0,...\n",
       "\n",
       "[12446 rows x 2 columns]"
      ]
     },
     "execution_count": 148,
     "metadata": {},
     "output_type": "execute_result"
    }
   ],
   "source": [
    "imgs"
   ]
  },
  {
   "cell_type": "code",
   "execution_count": 11,
   "metadata": {},
   "outputs": [],
   "source": [
    "# Make a dictionary of labels\n",
    "labelDictionary = {0: 'Cyst', 1: 'Normal', 2: 'Stone', 3:'Tumor'}"
   ]
  },
  {
   "cell_type": "code",
   "execution_count": 149,
   "metadata": {},
   "outputs": [],
   "source": [
    "# Merge with the other dataframe to get each image matched with its label\n",
    "imgWithLabel = imgs.merge(df, how = 'inner', on = 'image_id')\n",
    "imgWithLabel = imgWithLabel[['image', 'target']]"
   ]
  },
  {
   "cell_type": "code",
   "execution_count": 154,
   "metadata": {},
   "outputs": [
    {
     "data": {
      "text/plain": [
       "(256,)"
      ]
     },
     "execution_count": 154,
     "metadata": {},
     "output_type": "execute_result"
    }
   ],
   "source": [
    "X = imgWithLabel['image'].to_numpy()\n",
    "y = imgWithLabel['target'].to_numpy()"
   ]
  },
  {
   "cell_type": "code",
   "execution_count": 155,
   "metadata": {},
   "outputs": [],
   "source": [
    "X_train, X_test, y_train, y_test = train_test_split(X, y, test_size=0.2, random_state=1)"
   ]
  },
  {
   "cell_type": "code",
   "execution_count": 156,
   "metadata": {},
   "outputs": [],
   "source": [
    "np.random.seed(0)\n",
    "indices = np.arange(X_train.shape[0])\n",
    "shuffled_indices = np.random.permutation(indices)\n",
    "X_train = X_train[shuffled_indices]\n",
    "y_train = y_train[shuffled_indices]"
   ]
  },
  {
   "cell_type": "code",
   "execution_count": 157,
   "metadata": {},
   "outputs": [
    {
     "data": {
      "text/plain": [
       "array([array([[0, 0, 0, ..., 0, 0, 0],\n",
       "              [0, 0, 0, ..., 0, 0, 0],\n",
       "              [0, 0, 0, ..., 0, 0, 0],\n",
       "              ...,\n",
       "              [0, 0, 0, ..., 0, 0, 0],\n",
       "              [0, 0, 0, ..., 0, 0, 0],\n",
       "              [0, 0, 0, ..., 0, 0, 0]], dtype=uint8),\n",
       "       array([[0, 0, 0, ..., 0, 0, 0],\n",
       "              [0, 0, 0, ..., 0, 0, 0],\n",
       "              [0, 0, 0, ..., 0, 0, 0],\n",
       "              ...,\n",
       "              [0, 0, 0, ..., 0, 0, 0],\n",
       "              [0, 0, 0, ..., 0, 0, 0],\n",
       "              [0, 0, 0, ..., 0, 0, 0]], dtype=uint8),\n",
       "       array([[0, 0, 0, ..., 0, 0, 0],\n",
       "              [0, 0, 0, ..., 0, 0, 0],\n",
       "              [0, 0, 0, ..., 0, 0, 0],\n",
       "              ...,\n",
       "              [0, 0, 0, ..., 0, 0, 0],\n",
       "              [0, 0, 0, ..., 0, 0, 0],\n",
       "              [0, 0, 0, ..., 0, 0, 0]], dtype=uint8), ...,\n",
       "       array([[0, 0, 0, ..., 0, 0, 0],\n",
       "              [0, 0, 0, ..., 0, 0, 0],\n",
       "              [0, 0, 0, ..., 0, 0, 0],\n",
       "              ...,\n",
       "              [0, 0, 0, ..., 0, 0, 0],\n",
       "              [0, 0, 0, ..., 0, 0, 0],\n",
       "              [0, 0, 0, ..., 0, 0, 0]], dtype=uint8),\n",
       "       array([[0, 0, 0, ..., 0, 0, 0],\n",
       "              [0, 0, 0, ..., 0, 0, 0],\n",
       "              [0, 0, 0, ..., 0, 0, 0],\n",
       "              ...,\n",
       "              [0, 0, 0, ..., 0, 0, 0],\n",
       "              [0, 0, 0, ..., 0, 0, 0],\n",
       "              [0, 0, 0, ..., 0, 0, 0]], dtype=uint8),\n",
       "       array([[0, 0, 0, ..., 0, 0, 0],\n",
       "              [0, 0, 0, ..., 0, 0, 0],\n",
       "              [0, 0, 0, ..., 0, 0, 0],\n",
       "              ...,\n",
       "              [0, 0, 0, ..., 2, 0, 0],\n",
       "              [0, 0, 0, ..., 0, 0, 0],\n",
       "              [0, 0, 0, ..., 0, 0, 0]], dtype=uint8)], dtype=object)"
      ]
     },
     "execution_count": 157,
     "metadata": {},
     "output_type": "execute_result"
    }
   ],
   "source": [
    "X_train"
   ]
  }
 ],
 "metadata": {
  "accelerator": "GPU",
  "colab": {
   "gpuType": "T4",
   "provenance": []
  },
  "kernelspec": {
   "display_name": "Python 3",
   "language": "python",
   "name": "python3"
  },
  "language_info": {
   "codemirror_mode": {
    "name": "ipython",
    "version": 3
   },
   "file_extension": ".py",
   "mimetype": "text/x-python",
   "name": "python",
   "nbconvert_exporter": "python",
   "pygments_lexer": "ipython3",
   "version": "3.8.5"
  }
 },
 "nbformat": 4,
 "nbformat_minor": 1
}
