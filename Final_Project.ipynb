{
 "cells": [
  {
   "cell_type": "code",
   "execution_count": 1,
   "metadata": {
    "id": "i2dsN0NdysAB"
   },
   "outputs": [],
   "source": [
    "# Import the libraries we'll use below.\n",
    "import numpy as np\n",
    "from matplotlib import pyplot as plt\n",
    "import pandas as pd\n",
    "import seaborn as sns  # for nicer plots\n",
    "sns.set(style=\"darkgrid\")  # default style\n",
    "\n",
    "import tensorflow as tf\n",
    "from tensorflow import keras\n",
    "from keras import metrics\n",
    "from sklearn.model_selection import train_test_split\n",
    "tf.get_logger().setLevel('INFO')\n",
    "\n",
    "import os\n",
    "from os import listdir\n",
    "from PIL import Image\n",
    "\n",
    "from imblearn.over_sampling import SMOTE"
   ]
  },
  {
   "cell_type": "code",
   "execution_count": 34,
   "metadata": {},
   "outputs": [
    {
     "name": "stdout",
     "output_type": "stream",
     "text": [
      "Requirement already satisfied: imbalanced-learn in /Users/karachristensen/opt/anaconda3/lib/python3.8/site-packages (0.11.0)\n",
      "Requirement already satisfied: threadpoolctl>=2.0.0 in /Users/karachristensen/opt/anaconda3/lib/python3.8/site-packages (from imbalanced-learn) (2.1.0)\n",
      "Requirement already satisfied: numpy>=1.17.3 in /Users/karachristensen/opt/anaconda3/lib/python3.8/site-packages (from imbalanced-learn) (1.23.3)\n",
      "Requirement already satisfied: joblib>=1.1.1 in /Users/karachristensen/opt/anaconda3/lib/python3.8/site-packages (from imbalanced-learn) (1.3.2)\n",
      "Requirement already satisfied: scikit-learn>=1.0.2 in /Users/karachristensen/opt/anaconda3/lib/python3.8/site-packages (from imbalanced-learn) (1.3.2)\n",
      "Requirement already satisfied: scipy>=1.5.0 in /Users/karachristensen/opt/anaconda3/lib/python3.8/site-packages (from imbalanced-learn) (1.5.2)\n"
     ]
    }
   ],
   "source": [
    "## Might need to install SMOTE. After install, I needed to close anaconda/jupyter notebook and reopen it for it to\n",
    "## work :) - Kara\n",
    "\n",
    "# import sys\n",
    "# !{sys.executable} -m pip install imbalanced-learn"
   ]
  },
  {
   "cell_type": "code",
   "execution_count": 2,
   "metadata": {
    "id": "n-wvLSpkzGY5"
   },
   "outputs": [],
   "source": [
    "df = pd.read_csv('KidneyImages/kidneyData.csv')"
   ]
  },
  {
   "cell_type": "code",
   "execution_count": 3,
   "metadata": {
    "colab": {
     "base_uri": "https://localhost:8080/",
     "height": 419
    },
    "id": "ydav9VmY0JNs",
    "outputId": "5083a436-fa8f-48ac-eb07-6e0afd72c5cd"
   },
   "outputs": [
    {
     "data": {
      "text/html": [
       "<div>\n",
       "<style scoped>\n",
       "    .dataframe tbody tr th:only-of-type {\n",
       "        vertical-align: middle;\n",
       "    }\n",
       "\n",
       "    .dataframe tbody tr th {\n",
       "        vertical-align: top;\n",
       "    }\n",
       "\n",
       "    .dataframe thead th {\n",
       "        text-align: right;\n",
       "    }\n",
       "</style>\n",
       "<table border=\"1\" class=\"dataframe\">\n",
       "  <thead>\n",
       "    <tr style=\"text-align: right;\">\n",
       "      <th></th>\n",
       "      <th>Unnamed: 0</th>\n",
       "      <th>image_id</th>\n",
       "      <th>path</th>\n",
       "      <th>diag</th>\n",
       "      <th>target</th>\n",
       "      <th>Class</th>\n",
       "    </tr>\n",
       "  </thead>\n",
       "  <tbody>\n",
       "    <tr>\n",
       "      <th>0</th>\n",
       "      <td>0</td>\n",
       "      <td>Tumor- (1044)</td>\n",
       "      <td>/content/data/CT KIDNEY DATASET Normal, CYST, ...</td>\n",
       "      <td>Tumor</td>\n",
       "      <td>3</td>\n",
       "      <td>Tumor</td>\n",
       "    </tr>\n",
       "    <tr>\n",
       "      <th>1</th>\n",
       "      <td>1</td>\n",
       "      <td>Tumor- (83)</td>\n",
       "      <td>/content/data/CT KIDNEY DATASET Normal, CYST, ...</td>\n",
       "      <td>Tumor</td>\n",
       "      <td>3</td>\n",
       "      <td>Tumor</td>\n",
       "    </tr>\n",
       "    <tr>\n",
       "      <th>2</th>\n",
       "      <td>2</td>\n",
       "      <td>Tumor- (580)</td>\n",
       "      <td>/content/data/CT KIDNEY DATASET Normal, CYST, ...</td>\n",
       "      <td>Tumor</td>\n",
       "      <td>3</td>\n",
       "      <td>Tumor</td>\n",
       "    </tr>\n",
       "    <tr>\n",
       "      <th>3</th>\n",
       "      <td>3</td>\n",
       "      <td>Tumor- (1701)</td>\n",
       "      <td>/content/data/CT KIDNEY DATASET Normal, CYST, ...</td>\n",
       "      <td>Tumor</td>\n",
       "      <td>3</td>\n",
       "      <td>Tumor</td>\n",
       "    </tr>\n",
       "    <tr>\n",
       "      <th>4</th>\n",
       "      <td>4</td>\n",
       "      <td>Tumor- (1220)</td>\n",
       "      <td>/content/data/CT KIDNEY DATASET Normal, CYST, ...</td>\n",
       "      <td>Tumor</td>\n",
       "      <td>3</td>\n",
       "      <td>Tumor</td>\n",
       "    </tr>\n",
       "    <tr>\n",
       "      <th>...</th>\n",
       "      <td>...</td>\n",
       "      <td>...</td>\n",
       "      <td>...</td>\n",
       "      <td>...</td>\n",
       "      <td>...</td>\n",
       "      <td>...</td>\n",
       "    </tr>\n",
       "    <tr>\n",
       "      <th>12441</th>\n",
       "      <td>12441</td>\n",
       "      <td>Cyst- (2522)</td>\n",
       "      <td>/content/data/CT KIDNEY DATASET Normal, CYST, ...</td>\n",
       "      <td>Cyst</td>\n",
       "      <td>0</td>\n",
       "      <td>Cyst</td>\n",
       "    </tr>\n",
       "    <tr>\n",
       "      <th>12442</th>\n",
       "      <td>12442</td>\n",
       "      <td>Cyst- (2627)</td>\n",
       "      <td>/content/data/CT KIDNEY DATASET Normal, CYST, ...</td>\n",
       "      <td>Cyst</td>\n",
       "      <td>0</td>\n",
       "      <td>Cyst</td>\n",
       "    </tr>\n",
       "    <tr>\n",
       "      <th>12443</th>\n",
       "      <td>12443</td>\n",
       "      <td>Cyst- (972)</td>\n",
       "      <td>/content/data/CT KIDNEY DATASET Normal, CYST, ...</td>\n",
       "      <td>Cyst</td>\n",
       "      <td>0</td>\n",
       "      <td>Cyst</td>\n",
       "    </tr>\n",
       "    <tr>\n",
       "      <th>12444</th>\n",
       "      <td>12444</td>\n",
       "      <td>Cyst- (2323)</td>\n",
       "      <td>/content/data/CT KIDNEY DATASET Normal, CYST, ...</td>\n",
       "      <td>Cyst</td>\n",
       "      <td>0</td>\n",
       "      <td>Cyst</td>\n",
       "    </tr>\n",
       "    <tr>\n",
       "      <th>12445</th>\n",
       "      <td>12445</td>\n",
       "      <td>Cyst- (2145)</td>\n",
       "      <td>/content/data/CT KIDNEY DATASET Normal, CYST, ...</td>\n",
       "      <td>Cyst</td>\n",
       "      <td>0</td>\n",
       "      <td>Cyst</td>\n",
       "    </tr>\n",
       "  </tbody>\n",
       "</table>\n",
       "<p>12446 rows × 6 columns</p>\n",
       "</div>"
      ],
      "text/plain": [
       "       Unnamed: 0       image_id  \\\n",
       "0               0  Tumor- (1044)   \n",
       "1               1    Tumor- (83)   \n",
       "2               2   Tumor- (580)   \n",
       "3               3  Tumor- (1701)   \n",
       "4               4  Tumor- (1220)   \n",
       "...           ...            ...   \n",
       "12441       12441   Cyst- (2522)   \n",
       "12442       12442   Cyst- (2627)   \n",
       "12443       12443    Cyst- (972)   \n",
       "12444       12444   Cyst- (2323)   \n",
       "12445       12445   Cyst- (2145)   \n",
       "\n",
       "                                                    path   diag  target  Class  \n",
       "0      /content/data/CT KIDNEY DATASET Normal, CYST, ...  Tumor       3  Tumor  \n",
       "1      /content/data/CT KIDNEY DATASET Normal, CYST, ...  Tumor       3  Tumor  \n",
       "2      /content/data/CT KIDNEY DATASET Normal, CYST, ...  Tumor       3  Tumor  \n",
       "3      /content/data/CT KIDNEY DATASET Normal, CYST, ...  Tumor       3  Tumor  \n",
       "4      /content/data/CT KIDNEY DATASET Normal, CYST, ...  Tumor       3  Tumor  \n",
       "...                                                  ...    ...     ...    ...  \n",
       "12441  /content/data/CT KIDNEY DATASET Normal, CYST, ...   Cyst       0   Cyst  \n",
       "12442  /content/data/CT KIDNEY DATASET Normal, CYST, ...   Cyst       0   Cyst  \n",
       "12443  /content/data/CT KIDNEY DATASET Normal, CYST, ...   Cyst       0   Cyst  \n",
       "12444  /content/data/CT KIDNEY DATASET Normal, CYST, ...   Cyst       0   Cyst  \n",
       "12445  /content/data/CT KIDNEY DATASET Normal, CYST, ...   Cyst       0   Cyst  \n",
       "\n",
       "[12446 rows x 6 columns]"
      ]
     },
     "metadata": {},
     "output_type": "display_data"
    }
   ],
   "source": [
    "display(df)"
   ]
  },
  {
   "cell_type": "code",
   "execution_count": 4,
   "metadata": {},
   "outputs": [],
   "source": [
    "newsize = (256, 256)"
   ]
  },
  {
   "cell_type": "code",
   "execution_count": 5,
   "metadata": {
    "id": "C0h3ndqZEsXT"
   },
   "outputs": [],
   "source": [
    "## Read in all images\n",
    "# First, read in all cyst images\n",
    "\n",
    "cystImages = []\n",
    "\n",
    "# Get the correct folder of images\n",
    "folder_dir = \"KidneyImages/CT-KIDNEY-DATASET-Normal-Cyst-Tumor-Stone/CT-KIDNEY-DATASET-Normal-Cyst-Tumor-Stone/Cyst\"\n",
    "\n",
    "\n",
    "for images in os.listdir(folder_dir): # For each item in the folder\n",
    "    if (images.endswith(\".jpg\")): # If it is a jpg\n",
    "        image = Image.open(folder_dir + '/' + images) # Open the image\n",
    "        image = image.resize(newsize) # Resize it to 256x256\n",
    "        npImage = np.asarray(image) # Turn it into an array\n",
    "        reshapedImage = npImage[:, :, 0] # Get rid of the last two color values (since it is black and white)\n",
    "        cystImages.append({'image_id': images[:-4], 'image': reshapedImage}) # Add the information to the dictionary"
   ]
  },
  {
   "cell_type": "code",
   "execution_count": 6,
   "metadata": {
    "id": "Nz5nTPfA8XzJ"
   },
   "outputs": [],
   "source": [
    "# Then all normal images\n",
    "normalImages = []\n",
    "\n",
    "folder_dir = \"KidneyImages/CT-KIDNEY-DATASET-Normal-Cyst-Tumor-Stone/CT-KIDNEY-DATASET-Normal-Cyst-Tumor-Stone/Normal\"\n",
    "\n",
    "\n",
    "for images in os.listdir(folder_dir):\n",
    "    if (images.endswith(\".jpg\")):\n",
    "        image = Image.open(folder_dir + '/' + images)\n",
    "        image = image.resize(newsize)\n",
    "        npImage = np.asarray(image)\n",
    "        reshapedImage = npImage[:, :, 0]\n",
    "\n",
    "        normalImages.append({'image_id': images[:-4], 'image': reshapedImage})"
   ]
  },
  {
   "cell_type": "code",
   "execution_count": 7,
   "metadata": {
    "id": "Nynum1gE84tY"
   },
   "outputs": [],
   "source": [
    "# Then all stone images\n",
    "stoneImages = []\n",
    "\n",
    "folder_dir = \"KidneyImages/CT-KIDNEY-DATASET-Normal-Cyst-Tumor-Stone/CT-KIDNEY-DATASET-Normal-Cyst-Tumor-Stone/Stone\"\n",
    "\n",
    "\n",
    "for images in os.listdir(folder_dir):\n",
    "    if (images.endswith(\".jpg\")):\n",
    "        image = Image.open(folder_dir + '/' + images)\n",
    "        image = image.resize(newsize)\n",
    "        npImage = np.asarray(image)\n",
    "        reshapedImage = npImage[:, :, 0]\n",
    "\n",
    "        stoneImages.append({'image_id': images[:-4], 'image': reshapedImage})"
   ]
  },
  {
   "cell_type": "code",
   "execution_count": 8,
   "metadata": {
    "id": "i_nlQuIx-J-e"
   },
   "outputs": [],
   "source": [
    "# Then all tumor images\n",
    "tumorImages = []\n",
    "\n",
    "folder_dir = \"KidneyImages/CT-KIDNEY-DATASET-Normal-Cyst-Tumor-Stone/CT-KIDNEY-DATASET-Normal-Cyst-Tumor-Stone/Tumor\"\n",
    "\n",
    "\n",
    "for images in os.listdir(folder_dir):\n",
    "    if (images.endswith(\".jpg\")):\n",
    "        image = Image.open(folder_dir + '/' + images)\n",
    "        image = image.resize(newsize)\n",
    "        reshapedImage = npImage[:, :, 0]\n",
    "        npImage = np.asarray(image)\n",
    "\n",
    "        tumorImages.append({'image_id': images[:-4], 'image': reshapedImage})"
   ]
  },
  {
   "cell_type": "code",
   "execution_count": 9,
   "metadata": {
    "id": "TrW3hRCtizO3"
   },
   "outputs": [],
   "source": [
    "# Concatenate all list of images, and turn into a data frame\n",
    "\n",
    "allImages = cystImages + stoneImages + normalImages + tumorImages\n",
    "\n",
    "imgs = pd.DataFrame(allImages)"
   ]
  },
  {
   "cell_type": "code",
   "execution_count": 10,
   "metadata": {},
   "outputs": [
    {
     "data": {
      "text/html": [
       "<div>\n",
       "<style scoped>\n",
       "    .dataframe tbody tr th:only-of-type {\n",
       "        vertical-align: middle;\n",
       "    }\n",
       "\n",
       "    .dataframe tbody tr th {\n",
       "        vertical-align: top;\n",
       "    }\n",
       "\n",
       "    .dataframe thead th {\n",
       "        text-align: right;\n",
       "    }\n",
       "</style>\n",
       "<table border=\"1\" class=\"dataframe\">\n",
       "  <thead>\n",
       "    <tr style=\"text-align: right;\">\n",
       "      <th></th>\n",
       "      <th>image_id</th>\n",
       "      <th>image</th>\n",
       "    </tr>\n",
       "  </thead>\n",
       "  <tbody>\n",
       "    <tr>\n",
       "      <th>0</th>\n",
       "      <td>Cyst- (630)</td>\n",
       "      <td>[[0, 0, 0, 0, 0, 0, 0, 0, 0, 0, 0, 0, 0, 0, 0,...</td>\n",
       "    </tr>\n",
       "    <tr>\n",
       "      <th>1</th>\n",
       "      <td>Cyst- (260)</td>\n",
       "      <td>[[0, 0, 0, 0, 0, 0, 0, 0, 0, 0, 0, 0, 0, 0, 0,...</td>\n",
       "    </tr>\n",
       "    <tr>\n",
       "      <th>2</th>\n",
       "      <td>Cyst- (1631)</td>\n",
       "      <td>[[0, 0, 0, 0, 0, 0, 0, 0, 0, 0, 0, 0, 0, 0, 0,...</td>\n",
       "    </tr>\n",
       "    <tr>\n",
       "      <th>3</th>\n",
       "      <td>Cyst- (1261)</td>\n",
       "      <td>[[0, 0, 0, 0, 0, 0, 0, 0, 0, 0, 0, 0, 0, 0, 0,...</td>\n",
       "    </tr>\n",
       "    <tr>\n",
       "      <th>4</th>\n",
       "      <td>Cyst- (1774)</td>\n",
       "      <td>[[0, 0, 0, 0, 0, 0, 0, 0, 0, 0, 0, 0, 0, 0, 0,...</td>\n",
       "    </tr>\n",
       "    <tr>\n",
       "      <th>...</th>\n",
       "      <td>...</td>\n",
       "      <td>...</td>\n",
       "    </tr>\n",
       "    <tr>\n",
       "      <th>12441</th>\n",
       "      <td>Tumor- (209)</td>\n",
       "      <td>[[0, 0, 0, 0, 0, 0, 0, 0, 0, 0, 0, 0, 0, 0, 0,...</td>\n",
       "    </tr>\n",
       "    <tr>\n",
       "      <th>12442</th>\n",
       "      <td>Tumor- (1390)</td>\n",
       "      <td>[[0, 0, 0, 0, 0, 0, 0, 0, 0, 0, 0, 0, 0, 0, 0,...</td>\n",
       "    </tr>\n",
       "    <tr>\n",
       "      <th>12443</th>\n",
       "      <td>Tumor- (659)</td>\n",
       "      <td>[[0, 0, 0, 0, 0, 0, 0, 0, 0, 0, 0, 0, 0, 0, 0,...</td>\n",
       "    </tr>\n",
       "    <tr>\n",
       "      <th>12444</th>\n",
       "      <td>Tumor- (1685)</td>\n",
       "      <td>[[0, 0, 0, 0, 0, 0, 0, 0, 0, 0, 0, 0, 0, 0, 0,...</td>\n",
       "    </tr>\n",
       "    <tr>\n",
       "      <th>12445</th>\n",
       "      <td>Tumor- (2103)</td>\n",
       "      <td>[[0, 0, 0, 0, 0, 0, 0, 0, 0, 0, 0, 0, 0, 0, 0,...</td>\n",
       "    </tr>\n",
       "  </tbody>\n",
       "</table>\n",
       "<p>12446 rows × 2 columns</p>\n",
       "</div>"
      ],
      "text/plain": [
       "            image_id                                              image\n",
       "0        Cyst- (630)  [[0, 0, 0, 0, 0, 0, 0, 0, 0, 0, 0, 0, 0, 0, 0,...\n",
       "1        Cyst- (260)  [[0, 0, 0, 0, 0, 0, 0, 0, 0, 0, 0, 0, 0, 0, 0,...\n",
       "2       Cyst- (1631)  [[0, 0, 0, 0, 0, 0, 0, 0, 0, 0, 0, 0, 0, 0, 0,...\n",
       "3       Cyst- (1261)  [[0, 0, 0, 0, 0, 0, 0, 0, 0, 0, 0, 0, 0, 0, 0,...\n",
       "4       Cyst- (1774)  [[0, 0, 0, 0, 0, 0, 0, 0, 0, 0, 0, 0, 0, 0, 0,...\n",
       "...              ...                                                ...\n",
       "12441   Tumor- (209)  [[0, 0, 0, 0, 0, 0, 0, 0, 0, 0, 0, 0, 0, 0, 0,...\n",
       "12442  Tumor- (1390)  [[0, 0, 0, 0, 0, 0, 0, 0, 0, 0, 0, 0, 0, 0, 0,...\n",
       "12443   Tumor- (659)  [[0, 0, 0, 0, 0, 0, 0, 0, 0, 0, 0, 0, 0, 0, 0,...\n",
       "12444  Tumor- (1685)  [[0, 0, 0, 0, 0, 0, 0, 0, 0, 0, 0, 0, 0, 0, 0,...\n",
       "12445  Tumor- (2103)  [[0, 0, 0, 0, 0, 0, 0, 0, 0, 0, 0, 0, 0, 0, 0,...\n",
       "\n",
       "[12446 rows x 2 columns]"
      ]
     },
     "execution_count": 10,
     "metadata": {},
     "output_type": "execute_result"
    }
   ],
   "source": [
    "imgs"
   ]
  },
  {
   "cell_type": "code",
   "execution_count": 11,
   "metadata": {},
   "outputs": [],
   "source": [
    "# Make a dictionary of labels\n",
    "labelDictionary = {0: 'Cyst', 1: 'Normal', 2: 'Stone', 3:'Tumor'}"
   ]
  },
  {
   "cell_type": "code",
   "execution_count": 12,
   "metadata": {},
   "outputs": [],
   "source": [
    "# Merge with the other dataframe to get each image matched with its label\n",
    "imgWithLabel = imgs.merge(df, how = 'inner', on = 'image_id')\n",
    "imgWithLabel = imgWithLabel[['image', 'target']]"
   ]
  },
  {
   "cell_type": "code",
   "execution_count": 13,
   "metadata": {},
   "outputs": [],
   "source": [
    "X = imgWithLabel['image'].to_numpy()\n",
    "y = imgWithLabel['target'].to_numpy()"
   ]
  },
  {
   "cell_type": "code",
   "execution_count": null,
   "metadata": {},
   "outputs": [],
   "source": [
    "###### First, we perform SMOTE"
   ]
  },
  {
   "cell_type": "code",
   "execution_count": 14,
   "metadata": {},
   "outputs": [],
   "source": [
    "# Reshape/ unpack the array of images, then flatten it so it is prepared for smote\n",
    "X = np.array([x for x in X])\n",
    "nsamples, nx, ny = X.shape\n",
    "X = X.reshape((nsamples,nx*ny))"
   ]
  },
  {
   "cell_type": "code",
   "execution_count": 15,
   "metadata": {},
   "outputs": [
    {
     "data": {
      "image/png": "[encoded data removed]",
      "text/plain": [
       "<Figure size 432x288 with 1 Axes>"
      ]
     },
     "metadata": {},
     "output_type": "display_data"
    },
    {
     "data": {
      "image/png": "[encoded data removed]",
      "text/plain": [
       "<Figure size 432x288 with 1 Axes>"
      ]
     },
     "metadata": {},
     "output_type": "display_data"
    }
   ],
   "source": [
    "# SMOTE to balance classes\n",
    "\n",
    "# Original class distribution\n",
    "unique, counts = np.unique(y, return_counts=True)\n",
    "uniqueLables = [labelDictionary[x] for x in unique]\n",
    "plt.pie(counts, labels = uniqueLables)\n",
    "plt.title('Original Distribution')\n",
    "plt.show()\n",
    "\n",
    "# Perform SMOTE sampling\n",
    "oversample = SMOTE()\n",
    "Xsmote, ysmote = oversample.fit_resample(X, y)\n",
    "\n",
    "\n",
    "# Updated class distribution\n",
    "uniquesmote, countssmote = np.unique(ysmote, return_counts=True)\n",
    "uniqueLablessmote = [labelDictionary[x] for x in uniquesmote]\n",
    "plt.pie(countssmote, labels = uniqueLablessmote)\n",
    "plt.title('Post Smote Distribution')\n",
    "plt.show()"
   ]
  },
  {
   "cell_type": "code",
   "execution_count": null,
   "metadata": {},
   "outputs": [],
   "source": [
    "###### Then we shuffle the data"
   ]
  },
  {
   "cell_type": "code",
   "execution_count": 45,
   "metadata": {},
   "outputs": [],
   "source": [
    "np.random.seed(42)\n",
    "indices = np.arange(Xsmote.shape[0])\n",
    "shuffled_indices = np.random.permutation(indices)\n",
    "Xshuffled = Xsmote[shuffled_indices]\n",
    "yshuffled = ysmote[shuffled_indices]"
   ]
  },
  {
   "cell_type": "code",
   "execution_count": 46,
   "metadata": {},
   "outputs": [],
   "source": [
    "###### Then we split into train and test sets"
   ]
  },
  {
   "cell_type": "code",
   "execution_count": 59,
   "metadata": {},
   "outputs": [],
   "source": [
    "X_train, X_test, y_train, y_test = train_test_split(Xshuffled, yshuffled, test_size=0.2, random_state=1)"
   ]
  },
  {
   "cell_type": "code",
   "execution_count": 60,
   "metadata": {},
   "outputs": [],
   "source": [
    "# Create an intermediary validation set \n",
    "X_train, X_val, y_train, y_val = train_test_split(X_train, y_train, test_size=0.25, random_state=1)"
   ]
  },
  {
   "cell_type": "code",
   "execution_count": 61,
   "metadata": {},
   "outputs": [
    {
     "data": {
      "text/plain": [
       "(12184, 65536)"
      ]
     },
     "execution_count": 61,
     "metadata": {},
     "output_type": "execute_result"
    }
   ],
   "source": [
    "X_train.shape"
   ]
  },
  {
   "cell_type": "code",
   "execution_count": 28,
   "metadata": {},
   "outputs": [],
   "source": [
    "X_train = np.stack(X_train, axis=0)\n",
    "Y_train = np.stack(y_train, axis=0)\n",
    "X_test = np.stack(X_test, axis=0)\n",
    "Y_test = np.stack(y_test, axis=0)"
   ]
  },
  {
   "cell_type": "code",
   "execution_count": 29,
   "metadata": {},
   "outputs": [
    {
     "data": {
      "text/plain": [
       "(16246, 65536)"
      ]
     },
     "execution_count": 29,
     "metadata": {},
     "output_type": "execute_result"
    }
   ],
   "source": [
    "X_train.shape"
   ]
  },
  {
   "cell_type": "code",
   "execution_count": 62,
   "metadata": {},
   "outputs": [],
   "source": [
    "def build_multiclass_model(n_classes, learning_rate=0.01):\n",
    "    \"\"\"\n",
    "    Build a multi-class logistic regression model using Keras.\n",
    "\n",
    "    Args:\n",
    "    n_classes: Number of classes in the dataset\n",
    "    learning_rate: The desired learning rate for SGD.\n",
    "\n",
    "    Returns:\n",
    "    model: A tf.keras model (graph).\n",
    "    \"\"\"\n",
    "   \n",
    "\n",
    "    model = keras.Sequential()\n",
    "    model.add(keras.layers.Flatten())\n",
    "    model.add(keras.layers.Dense(\n",
    "      units=n_classes,\n",
    "      activation=\"softmax\"\n",
    "    ))\n",
    "\n",
    "    optimizer = tf.keras.optimizers.SGD(learning_rate=learning_rate)\n",
    "\n",
    "    model.compile(loss='sparse_categorical_crossentropy',\n",
    "                optimizer=optimizer,\n",
    "                metrics=['accuracy'])\n",
    "    return model"
   ]
  },
  {
   "cell_type": "code",
   "execution_count": 63,
   "metadata": {},
   "outputs": [
    {
     "name": "stdout",
     "output_type": "stream",
     "text": [
      "Epoch 1/5\n",
      "86/86 [==============================] - 2s 21ms/step - loss: 305181.4062 - accuracy: 0.4357 - val_loss: 73449.2266 - val_accuracy: 0.6538\n",
      "Epoch 2/5\n",
      "86/86 [==============================] - 2s 17ms/step - loss: 59488.1797 - accuracy: 0.7402 - val_loss: 17696.4980 - val_accuracy: 0.8482\n",
      "Epoch 3/5\n",
      "86/86 [==============================] - 2s 18ms/step - loss: 2216.5146 - accuracy: 0.9591 - val_loss: 1634.0101 - val_accuracy: 0.9688\n",
      "Epoch 4/5\n",
      "86/86 [==============================] - 1s 17ms/step - loss: 942.0218 - accuracy: 0.9780 - val_loss: 2076.0791 - val_accuracy: 0.9557\n",
      "Epoch 5/5\n",
      "86/86 [==============================] - 2s 21ms/step - loss: 558.5026 - accuracy: 0.9870 - val_loss: 1354.3282 - val_accuracy: 0.9705\n"
     ]
    },
    {
     "data": {
      "text/html": [
       "<div>\n",
       "<style scoped>\n",
       "    .dataframe tbody tr th:only-of-type {\n",
       "        vertical-align: middle;\n",
       "    }\n",
       "\n",
       "    .dataframe tbody tr th {\n",
       "        vertical-align: top;\n",
       "    }\n",
       "\n",
       "    .dataframe thead th {\n",
       "        text-align: right;\n",
       "    }\n",
       "</style>\n",
       "<table border=\"1\" class=\"dataframe\">\n",
       "  <thead>\n",
       "    <tr style=\"text-align: right;\">\n",
       "      <th></th>\n",
       "      <th>loss</th>\n",
       "      <th>accuracy</th>\n",
       "      <th>val_loss</th>\n",
       "      <th>val_accuracy</th>\n",
       "    </tr>\n",
       "  </thead>\n",
       "  <tbody>\n",
       "    <tr>\n",
       "      <th>0</th>\n",
       "      <td>305181.406250</td>\n",
       "      <td>0.435659</td>\n",
       "      <td>73449.226562</td>\n",
       "      <td>0.653815</td>\n",
       "    </tr>\n",
       "    <tr>\n",
       "      <th>1</th>\n",
       "      <td>59488.179688</td>\n",
       "      <td>0.740173</td>\n",
       "      <td>17696.498047</td>\n",
       "      <td>0.848236</td>\n",
       "    </tr>\n",
       "    <tr>\n",
       "      <th>2</th>\n",
       "      <td>2216.514648</td>\n",
       "      <td>0.959052</td>\n",
       "      <td>1634.010132</td>\n",
       "      <td>0.968827</td>\n",
       "    </tr>\n",
       "    <tr>\n",
       "      <th>3</th>\n",
       "      <td>942.021790</td>\n",
       "      <td>0.978021</td>\n",
       "      <td>2076.079102</td>\n",
       "      <td>0.955701</td>\n",
       "    </tr>\n",
       "    <tr>\n",
       "      <th>4</th>\n",
       "      <td>558.502625</td>\n",
       "      <td>0.987050</td>\n",
       "      <td>1354.328247</td>\n",
       "      <td>0.970468</td>\n",
       "    </tr>\n",
       "  </tbody>\n",
       "</table>\n",
       "</div>"
      ],
      "text/plain": [
       "            loss  accuracy      val_loss  val_accuracy\n",
       "0  305181.406250  0.435659  73449.226562      0.653815\n",
       "1   59488.179688  0.740173  17696.498047      0.848236\n",
       "2    2216.514648  0.959052   1634.010132      0.968827\n",
       "3     942.021790  0.978021   2076.079102      0.955701\n",
       "4     558.502625  0.987050   1354.328247      0.970468"
      ]
     },
     "metadata": {},
     "output_type": "display_data"
    }
   ],
   "source": [
    "tf.keras.backend.clear_session()\n",
    "tf.random.set_seed(0)\n",
    "\n",
    "model = build_multiclass_model(4, 0.01)\n",
    "\n",
    "history = model.fit(\n",
    "  x = X_train,\n",
    "  y = y_train,\n",
    "  epochs=5,\n",
    "  batch_size=128,\n",
    "  validation_split=0.1,\n",
    "  verbose=1)\n",
    "\n",
    "history = pd.DataFrame(history.history)\n",
    "display(history)"
   ]
  },
  {
   "cell_type": "code",
   "execution_count": 64,
   "metadata": {},
   "outputs": [
    {
     "name": "stdout",
     "output_type": "stream",
     "text": [
      "127/127 [==============================] - 0s 2ms/step\n",
      "[2 0 2 ... 3 1 0]\n"
     ]
    }
   ],
   "source": [
    "test_predictions = np.argmax(model.predict(X_val), axis=-1)\n",
    "print(test_predictions)"
   ]
  },
  {
   "cell_type": "code",
   "execution_count": 65,
   "metadata": {},
   "outputs": [
    {
     "data": {
      "image/png": "[encoded data removed]",
      "text/plain": [
       "<Figure size 432x288 with 1 Axes>"
      ]
     },
     "metadata": {},
     "output_type": "display_data"
    }
   ],
   "source": [
    "# Create a confusion matrix as a 2D array.\n",
    "confusion_matrix = tf.math.confusion_matrix(y_val, test_predictions)\n",
    "\n",
    "# Use a heatmap plot to display it.\n",
    "ax = sns.heatmap(confusion_matrix, annot=True, fmt='.3g', cmap='Blues',\n",
    "                 xticklabels=['Cyst','Normal','Stone','Tumor'], yticklabels=['Cyst','Normal','Stone','Tumor'], \n",
    "                 cbar=False)\n",
    "\n",
    "# Add axis labels.\n",
    "ax.set(xlabel='Predicted Label', ylabel='True Label')\n",
    "plt.show()"
   ]
  },
  {
   "cell_type": "code",
   "execution_count": 35,
   "metadata": {},
   "outputs": [],
   "source": [
    "def build_model(n_classes,   #should we change the n_classes to 4? since we only have 4 classes\n",
    "                hidden_layer_sizes=[],\n",
    "                activation='relu',\n",
    "                optimizer='SGD',\n",
    "                learning_rate=0.01):\n",
    "    tf.keras.backend.clear_session()\n",
    "    np.random.seed(0)\n",
    "    tf.random.set_seed(0)\n",
    "    model = tf.keras.models.Sequential()\n",
    "    # Flatten the input shape\n",
    "    model.add(tf.keras.layers.Flatten())\n",
    "    # Add hidden layers\n",
    "    for layer_size in hidden_layer_sizes:\n",
    "        model.add(tf.keras.layers.Dense(layer_size, activation=activation))\n",
    "    #Add the last neural network layer\n",
    "    model.add(tf.keras.layers.Dense(units=n_classes, activation='softmax'))\n",
    "    if optimizer == 'SGD':\n",
    "        model.compile(optimizer=tf.keras.optimizers.SGD(learning_rate=learning_rate),\n",
    "                      loss='sparse_categorical_crossentropy',\n",
    "                      metrics=['accuracy'])\n",
    "    elif optimizer == 'Adam':\n",
    "        model.compile(optimizer=tf.keras.optimizers.Adam(learning_rate=learning_rate),\n",
    "                      loss='sparse_categorical_crossentropy',\n",
    "                      metrics=['accuracy'])\n",
    "    elif optimizer == 'RMSprop':\n",
    "        model.compile(optimizer=tf.keras.optimizers.RMSprop(learning_rate=learning_rate),\n",
    "                      loss='sparse_categorical_crossentropy',\n",
    "                      metrics=['accuracy'])\n",
    "    else:\n",
    "        raise ValueError(\"Invalid optimizer. Please choose from ‘SGD’, ‘Adam’, or ‘RMSprop’.\")\n",
    "    return model\n"
   ]
  },
  {
   "cell_type": "code",
   "execution_count": 37,
   "metadata": {},
   "outputs": [
    {
     "name": "stdout",
     "output_type": "stream",
     "text": [
      "Epoch 1/5\n",
      "229/229 [==============================] - 9s 39ms/step - loss: 25753.7090 - accuracy: 0.2458 - val_loss: 1.3838 - val_accuracy: 0.2308\n",
      "Epoch 2/5\n",
      "229/229 [==============================] - 8s 37ms/step - loss: 1.3836 - accuracy: 0.2463 - val_loss: 1.3840 - val_accuracy: 0.2308\n",
      "Epoch 3/5\n",
      "229/229 [==============================] - 8s 37ms/step - loss: 1.3836 - accuracy: 0.2486 - val_loss: 1.3841 - val_accuracy: 0.2474\n",
      "Epoch 4/5\n",
      "229/229 [==============================] - 9s 38ms/step - loss: 1.3836 - accuracy: 0.2494 - val_loss: 1.3841 - val_accuracy: 0.2474\n",
      "Epoch 5/5\n",
      "229/229 [==============================] - 9s 38ms/step - loss: 1.3835 - accuracy: 0.2537 - val_loss: 1.3842 - val_accuracy: 0.2474\n",
      "127/127 - 1s - loss: 1.3847 - accuracy: 0.2464 - 830ms/epoch - 7ms/step\n"
     ]
    }
   ],
   "source": [
    "# Change the shape\n",
    "#### I don't think we need these anymore since I reshaped before smote!\n",
    "# X_train = np.array([np.asarray(x).flatten() for x in X_train]).astype(np.float32)\n",
    "# y_train = np.array([np.asarray(y) for y in y_train]).astype(np.float32)\n",
    "# X_test = np.array([np.asarray(x).flatten() for x in X_train]).astype(np.float32)\n",
    "# y_test = np.array([np.asarray(y) for y in y_train]).astype(np.float32)\n",
    "\n",
    "\n",
    "\n",
    "# Build and compile the model\n",
    "model = build_model(n_classes=4, hidden_layer_sizes=[128], activation='relu', optimizer='SGD', learning_rate=0.01)\n",
    "\n",
    "# Train the model for 5 epochs\n",
    "history = model.fit(X_train, y_train, epochs=5, batch_size=64, validation_split=0.1, verbose=1)\n",
    "test_loss, test_accuracy = model.evaluate(X_test, y_test, verbose=2)\n",
    "\n",
    "\n"
   ]
  },
  {
   "cell_type": "code",
   "execution_count": 26,
   "metadata": {},
   "outputs": [
    {
     "name": "stdout",
     "output_type": "stream",
     "text": [
      "Epoch 1/5\n",
      "140/140 [==============================] - 5s 36ms/step - loss: 7473.9858 - accuracy: 0.6464 - val_loss: 2.0338 - val_accuracy: 0.5472\n",
      "Epoch 2/5\n",
      "140/140 [==============================] - 5s 35ms/step - loss: 8.0220 - accuracy: 0.5817 - val_loss: 1.0464 - val_accuracy: 0.5100\n",
      "Epoch 3/5\n",
      "140/140 [==============================] - 5s 36ms/step - loss: 1.7319 - accuracy: 0.5280 - val_loss: 1.1232 - val_accuracy: 0.5050\n",
      "Epoch 4/5\n",
      "140/140 [==============================] - 5s 36ms/step - loss: 1.1079 - accuracy: 0.5205 - val_loss: 1.1233 - val_accuracy: 0.5050\n",
      "Epoch 5/5\n",
      "140/140 [==============================] - 5s 37ms/step - loss: 1.1077 - accuracy: 0.5205 - val_loss: 1.1227 - val_accuracy: 0.5050\n",
      "312/312 - 2s - loss: 1.1100 - accuracy: 0.5190 - 2s/epoch - 6ms/step\n"
     ]
    }
   ],
   "source": [
    "model = build_model(n_classes=4, hidden_layer_sizes=[128], activation='relu', optimizer='RMSprop', learning_rate=0.01)\n",
    "\n",
    "# Train the model for 5 epochs\n",
    "history = model.fit(X_train, y_train, epochs=5, batch_size=64, validation_split=0.1, verbose=1)\n",
    "test_loss, test_accuracy = model.evaluate(X_test, y_test, verbose=2)"
   ]
  },
  {
   "cell_type": "code",
   "execution_count": 27,
   "metadata": {},
   "outputs": [
    {
     "name": "stdout",
     "output_type": "stream",
     "text": [
      "Epoch 1/5\n",
      "140/140 [==============================] - 6s 43ms/step - loss: 1452.7842 - accuracy: 0.5614 - val_loss: 0.9824 - val_accuracy: 0.5994\n",
      "Epoch 2/5\n",
      "140/140 [==============================] - 6s 43ms/step - loss: 0.8948 - accuracy: 0.6442 - val_loss: 0.9066 - val_accuracy: 0.6245\n",
      "Epoch 3/5\n",
      "140/140 [==============================] - 6s 41ms/step - loss: 0.8717 - accuracy: 0.6613 - val_loss: 0.8876 - val_accuracy: 0.6325\n",
      "Epoch 4/5\n",
      "140/140 [==============================] - 6s 41ms/step - loss: 0.8711 - accuracy: 0.6536 - val_loss: 0.8465 - val_accuracy: 0.6456\n",
      "Epoch 5/5\n",
      "140/140 [==============================] - 6s 41ms/step - loss: 0.8307 - accuracy: 0.7048 - val_loss: 0.7474 - val_accuracy: 0.6988\n",
      "312/312 - 2s - loss: 0.7713 - accuracy: 0.7094 - 2s/epoch - 6ms/step\n"
     ]
    }
   ],
   "source": [
    "model = build_model(n_classes=4, hidden_layer_sizes=[128], activation='relu', optimizer='Adam', learning_rate=0.01)\n",
    "\n",
    "# Train the model for 5 epochs\n",
    "history = model.fit(X_train, y_train, epochs=5, batch_size=64, validation_split=0.1, verbose=1)\n",
    "test_loss, test_accuracy = model.evaluate(X_test, y_test, verbose=2)"
   ]
  }
 ],
 "metadata": {
  "accelerator": "GPU",
  "colab": {
   "gpuType": "T4",
   "provenance": []
  },
  "kernelspec": {
   "display_name": "Python 3",
   "language": "python",
   "name": "python3"
  },
  "language_info": {
   "codemirror_mode": {
    "name": "ipython",
    "version": 3
   },
   "file_extension": ".py",
   "mimetype": "text/x-python",
   "name": "python",
   "nbconvert_exporter": "python",
   "pygments_lexer": "ipython3",
   "version": "3.8.5"
  }
 },
 "nbformat": 4,
 "nbformat_minor": 4
}
