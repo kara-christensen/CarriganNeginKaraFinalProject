{
 "cells": [
  {
   "cell_type": "code",
   "execution_count": 1,
   "metadata": {
    "id": "i2dsN0NdysAB"
   },
   "outputs": [
    {
     "name": "stderr",
     "output_type": "stream",
     "text": [
      "2023-11-12 22:10:13.174048: I tensorflow/core/platform/cpu_feature_guard.cc:182] This TensorFlow binary is optimized to use available CPU instructions in performance-critical operations.\n",
      "To enable the following instructions: SSE4.1 SSE4.2, in other operations, rebuild TensorFlow with the appropriate compiler flags.\n"
     ]
    }
   ],
   "source": [
    "# Import the libraries we'll use below.\n",
    "import numpy as np\n",
    "from matplotlib import pyplot as plt\n",
    "import pandas as pd\n",
    "import seaborn as sns  # for nicer plots\n",
    "sns.set(style=\"darkgrid\")  # default style\n",
    "\n",
    "import tensorflow as tf\n",
    "from tensorflow import keras\n",
    "from keras import metrics\n",
    "from sklearn.model_selection import train_test_split\n",
    "tf.get_logger().setLevel('INFO')\n",
    "\n",
    "import os\n",
    "from os import listdir\n",
    "from PIL import Image\n",
    "\n",
    "from imblearn.over_sampling import SMOTE\n",
    "import cv2"
   ]
  },
  {
   "cell_type": "code",
   "execution_count": 4,
   "metadata": {},
   "outputs": [],
   "source": [
    "## Might need to install SMOTE. After install, I needed to close anaconda/jupyter notebook and reopen it for it to\n",
    "## work :) - Kara\n",
    "##Also import opencv-python for image augmentation- Negin\n",
    "# import sys\n",
    "# !{sys.executable} -m pip install imbalanced-learn"
   ]
  },
  {
   "cell_type": "markdown",
   "metadata": {},
   "source": [
    "### Load Data"
   ]
  },
  {
   "cell_type": "code",
   "execution_count": 5,
   "metadata": {
    "id": "n-wvLSpkzGY5"
   },
   "outputs": [],
   "source": [
    "df = pd.read_csv('KidneyImages/kidneyData.csv')"
   ]
  },
  {
   "cell_type": "code",
   "execution_count": 6,
   "metadata": {
    "colab": {
     "base_uri": "https://localhost:8080/",
     "height": 419
    },
    "id": "ydav9VmY0JNs",
    "outputId": "5083a436-fa8f-48ac-eb07-6e0afd72c5cd"
   },
   "outputs": [
    {
     "data": {
      "text/html": [
       "<div>\n",
       "<style scoped>\n",
       "    .dataframe tbody tr th:only-of-type {\n",
       "        vertical-align: middle;\n",
       "    }\n",
       "\n",
       "    .dataframe tbody tr th {\n",
       "        vertical-align: top;\n",
       "    }\n",
       "\n",
       "    .dataframe thead th {\n",
       "        text-align: right;\n",
       "    }\n",
       "</style>\n",
       "<table border=\"1\" class=\"dataframe\">\n",
       "  <thead>\n",
       "    <tr style=\"text-align: right;\">\n",
       "      <th></th>\n",
       "      <th>Unnamed: 0</th>\n",
       "      <th>image_id</th>\n",
       "      <th>path</th>\n",
       "      <th>diag</th>\n",
       "      <th>target</th>\n",
       "      <th>Class</th>\n",
       "    </tr>\n",
       "  </thead>\n",
       "  <tbody>\n",
       "    <tr>\n",
       "      <th>0</th>\n",
       "      <td>0</td>\n",
       "      <td>Tumor- (1044)</td>\n",
       "      <td>/content/data/CT KIDNEY DATASET Normal, CYST, ...</td>\n",
       "      <td>Tumor</td>\n",
       "      <td>3</td>\n",
       "      <td>Tumor</td>\n",
       "    </tr>\n",
       "    <tr>\n",
       "      <th>1</th>\n",
       "      <td>1</td>\n",
       "      <td>Tumor- (83)</td>\n",
       "      <td>/content/data/CT KIDNEY DATASET Normal, CYST, ...</td>\n",
       "      <td>Tumor</td>\n",
       "      <td>3</td>\n",
       "      <td>Tumor</td>\n",
       "    </tr>\n",
       "    <tr>\n",
       "      <th>2</th>\n",
       "      <td>2</td>\n",
       "      <td>Tumor- (580)</td>\n",
       "      <td>/content/data/CT KIDNEY DATASET Normal, CYST, ...</td>\n",
       "      <td>Tumor</td>\n",
       "      <td>3</td>\n",
       "      <td>Tumor</td>\n",
       "    </tr>\n",
       "    <tr>\n",
       "      <th>3</th>\n",
       "      <td>3</td>\n",
       "      <td>Tumor- (1701)</td>\n",
       "      <td>/content/data/CT KIDNEY DATASET Normal, CYST, ...</td>\n",
       "      <td>Tumor</td>\n",
       "      <td>3</td>\n",
       "      <td>Tumor</td>\n",
       "    </tr>\n",
       "    <tr>\n",
       "      <th>4</th>\n",
       "      <td>4</td>\n",
       "      <td>Tumor- (1220)</td>\n",
       "      <td>/content/data/CT KIDNEY DATASET Normal, CYST, ...</td>\n",
       "      <td>Tumor</td>\n",
       "      <td>3</td>\n",
       "      <td>Tumor</td>\n",
       "    </tr>\n",
       "    <tr>\n",
       "      <th>...</th>\n",
       "      <td>...</td>\n",
       "      <td>...</td>\n",
       "      <td>...</td>\n",
       "      <td>...</td>\n",
       "      <td>...</td>\n",
       "      <td>...</td>\n",
       "    </tr>\n",
       "    <tr>\n",
       "      <th>12441</th>\n",
       "      <td>12441</td>\n",
       "      <td>Cyst- (2522)</td>\n",
       "      <td>/content/data/CT KIDNEY DATASET Normal, CYST, ...</td>\n",
       "      <td>Cyst</td>\n",
       "      <td>0</td>\n",
       "      <td>Cyst</td>\n",
       "    </tr>\n",
       "    <tr>\n",
       "      <th>12442</th>\n",
       "      <td>12442</td>\n",
       "      <td>Cyst- (2627)</td>\n",
       "      <td>/content/data/CT KIDNEY DATASET Normal, CYST, ...</td>\n",
       "      <td>Cyst</td>\n",
       "      <td>0</td>\n",
       "      <td>Cyst</td>\n",
       "    </tr>\n",
       "    <tr>\n",
       "      <th>12443</th>\n",
       "      <td>12443</td>\n",
       "      <td>Cyst- (972)</td>\n",
       "      <td>/content/data/CT KIDNEY DATASET Normal, CYST, ...</td>\n",
       "      <td>Cyst</td>\n",
       "      <td>0</td>\n",
       "      <td>Cyst</td>\n",
       "    </tr>\n",
       "    <tr>\n",
       "      <th>12444</th>\n",
       "      <td>12444</td>\n",
       "      <td>Cyst- (2323)</td>\n",
       "      <td>/content/data/CT KIDNEY DATASET Normal, CYST, ...</td>\n",
       "      <td>Cyst</td>\n",
       "      <td>0</td>\n",
       "      <td>Cyst</td>\n",
       "    </tr>\n",
       "    <tr>\n",
       "      <th>12445</th>\n",
       "      <td>12445</td>\n",
       "      <td>Cyst- (2145)</td>\n",
       "      <td>/content/data/CT KIDNEY DATASET Normal, CYST, ...</td>\n",
       "      <td>Cyst</td>\n",
       "      <td>0</td>\n",
       "      <td>Cyst</td>\n",
       "    </tr>\n",
       "  </tbody>\n",
       "</table>\n",
       "<p>12446 rows × 6 columns</p>\n",
       "</div>"
      ],
      "text/plain": [
       "       Unnamed: 0       image_id  \\\n",
       "0               0  Tumor- (1044)   \n",
       "1               1    Tumor- (83)   \n",
       "2               2   Tumor- (580)   \n",
       "3               3  Tumor- (1701)   \n",
       "4               4  Tumor- (1220)   \n",
       "...           ...            ...   \n",
       "12441       12441   Cyst- (2522)   \n",
       "12442       12442   Cyst- (2627)   \n",
       "12443       12443    Cyst- (972)   \n",
       "12444       12444   Cyst- (2323)   \n",
       "12445       12445   Cyst- (2145)   \n",
       "\n",
       "                                                    path   diag  target  Class  \n",
       "0      /content/data/CT KIDNEY DATASET Normal, CYST, ...  Tumor       3  Tumor  \n",
       "1      /content/data/CT KIDNEY DATASET Normal, CYST, ...  Tumor       3  Tumor  \n",
       "2      /content/data/CT KIDNEY DATASET Normal, CYST, ...  Tumor       3  Tumor  \n",
       "3      /content/data/CT KIDNEY DATASET Normal, CYST, ...  Tumor       3  Tumor  \n",
       "4      /content/data/CT KIDNEY DATASET Normal, CYST, ...  Tumor       3  Tumor  \n",
       "...                                                  ...    ...     ...    ...  \n",
       "12441  /content/data/CT KIDNEY DATASET Normal, CYST, ...   Cyst       0   Cyst  \n",
       "12442  /content/data/CT KIDNEY DATASET Normal, CYST, ...   Cyst       0   Cyst  \n",
       "12443  /content/data/CT KIDNEY DATASET Normal, CYST, ...   Cyst       0   Cyst  \n",
       "12444  /content/data/CT KIDNEY DATASET Normal, CYST, ...   Cyst       0   Cyst  \n",
       "12445  /content/data/CT KIDNEY DATASET Normal, CYST, ...   Cyst       0   Cyst  \n",
       "\n",
       "[12446 rows x 6 columns]"
      ]
     },
     "metadata": {},
     "output_type": "display_data"
    }
   ],
   "source": [
    "display(df)"
   ]
  },
  {
   "cell_type": "code",
   "execution_count": 7,
   "metadata": {},
   "outputs": [],
   "source": [
    "newsize = (256, 256)"
   ]
  },
  {
   "cell_type": "code",
   "execution_count": 8,
   "metadata": {
    "id": "C0h3ndqZEsXT"
   },
   "outputs": [],
   "source": [
    "## Read in all images\n",
    "# First, read in all cyst images\n",
    "\n",
    "cystImages = []\n",
    "\n",
    "# Get the correct folder of images\n",
    "folder_dir = \"KidneyImages/CT-KIDNEY-DATASET-Normal-Cyst-Tumor-Stone/CT-KIDNEY-DATASET-Normal-Cyst-Tumor-Stone/Cyst\"\n",
    "\n",
    "\n",
    "for images in os.listdir(folder_dir): # For each item in the folder\n",
    "    if (images.endswith(\".jpg\")): # If it is a jpg\n",
    "        image = Image.open(folder_dir + '/' + images) # Open the image\n",
    "        image = image.resize(newsize) # Resize it to 256x256\n",
    "        npImage = np.asarray(image) # Turn it into an array\n",
    "        reshapedImage = npImage[:, :, 0] # Get rid of the last two color values (since it is black and white)\n",
    "        cystImages.append({'image_id': images[:-4], 'image': reshapedImage}) # Add the information to the dictionary"
   ]
  },
  {
   "cell_type": "code",
   "execution_count": 9,
   "metadata": {
    "id": "Nz5nTPfA8XzJ"
   },
   "outputs": [],
   "source": [
    "# Then all normal images\n",
    "normalImages = []\n",
    "\n",
    "folder_dir = \"KidneyImages/CT-KIDNEY-DATASET-Normal-Cyst-Tumor-Stone/CT-KIDNEY-DATASET-Normal-Cyst-Tumor-Stone/Normal\"\n",
    "\n",
    "\n",
    "for images in os.listdir(folder_dir):\n",
    "    if (images.endswith(\".jpg\")):\n",
    "        image = Image.open(folder_dir + '/' + images)\n",
    "        image = image.resize(newsize)\n",
    "        npImage = np.asarray(image)\n",
    "        reshapedImage = npImage[:, :, 0]\n",
    "\n",
    "        normalImages.append({'image_id': images[:-4], 'image': reshapedImage})"
   ]
  },
  {
   "cell_type": "code",
   "execution_count": 10,
   "metadata": {
    "id": "Nynum1gE84tY"
   },
   "outputs": [],
   "source": [
    "# Then all stone images\n",
    "stoneImages = []\n",
    "\n",
    "folder_dir = \"KidneyImages/CT-KIDNEY-DATASET-Normal-Cyst-Tumor-Stone/CT-KIDNEY-DATASET-Normal-Cyst-Tumor-Stone/Stone\"\n",
    "\n",
    "\n",
    "for images in os.listdir(folder_dir):\n",
    "    if (images.endswith(\".jpg\")):\n",
    "        image = Image.open(folder_dir + '/' + images)\n",
    "        image = image.resize(newsize)\n",
    "        npImage = np.asarray(image)\n",
    "        reshapedImage = npImage[:, :, 0]\n",
    "\n",
    "        stoneImages.append({'image_id': images[:-4], 'image': reshapedImage})"
   ]
  },
  {
   "cell_type": "code",
   "execution_count": 11,
   "metadata": {
    "id": "i_nlQuIx-J-e"
   },
   "outputs": [],
   "source": [
    "# Then all tumor images\n",
    "tumorImages = []\n",
    "\n",
    "folder_dir = \"KidneyImages/CT-KIDNEY-DATASET-Normal-Cyst-Tumor-Stone/CT-KIDNEY-DATASET-Normal-Cyst-Tumor-Stone/Tumor\"\n",
    "\n",
    "\n",
    "for images in os.listdir(folder_dir):\n",
    "    if (images.endswith(\".jpg\")):\n",
    "        image = Image.open(folder_dir + '/' + images)\n",
    "        image = image.resize(newsize)\n",
    "        npImage = np.asarray(image)\n",
    "        reshapedImage = npImage[:, :, 0]\n",
    "\n",
    "        tumorImages.append({'image_id': images[:-4], 'image': reshapedImage})"
   ]
  },
  {
   "cell_type": "code",
   "execution_count": 12,
   "metadata": {
    "id": "TrW3hRCtizO3"
   },
   "outputs": [],
   "source": [
    "# Concatenate all list of images, and turn into a data frame\n",
    "\n",
    "allImages = cystImages + stoneImages + normalImages + tumorImages\n",
    "\n",
    "imgs = pd.DataFrame(allImages)"
   ]
  },
  {
   "cell_type": "code",
   "execution_count": 13,
   "metadata": {},
   "outputs": [
    {
     "data": {
      "text/html": [
       "<div>\n",
       "<style scoped>\n",
       "    .dataframe tbody tr th:only-of-type {\n",
       "        vertical-align: middle;\n",
       "    }\n",
       "\n",
       "    .dataframe tbody tr th {\n",
       "        vertical-align: top;\n",
       "    }\n",
       "\n",
       "    .dataframe thead th {\n",
       "        text-align: right;\n",
       "    }\n",
       "</style>\n",
       "<table border=\"1\" class=\"dataframe\">\n",
       "  <thead>\n",
       "    <tr style=\"text-align: right;\">\n",
       "      <th></th>\n",
       "      <th>image_id</th>\n",
       "      <th>image</th>\n",
       "    </tr>\n",
       "  </thead>\n",
       "  <tbody>\n",
       "    <tr>\n",
       "      <th>0</th>\n",
       "      <td>Cyst- (630)</td>\n",
       "      <td>[[0, 0, 0, 0, 0, 0, 0, 0, 0, 0, 0, 0, 0, 0, 0,...</td>\n",
       "    </tr>\n",
       "    <tr>\n",
       "      <th>1</th>\n",
       "      <td>Cyst- (260)</td>\n",
       "      <td>[[0, 0, 0, 0, 0, 0, 0, 0, 0, 0, 0, 0, 0, 0, 0,...</td>\n",
       "    </tr>\n",
       "    <tr>\n",
       "      <th>2</th>\n",
       "      <td>Cyst- (1631)</td>\n",
       "      <td>[[0, 0, 0, 0, 0, 0, 0, 0, 0, 0, 0, 0, 0, 0, 0,...</td>\n",
       "    </tr>\n",
       "    <tr>\n",
       "      <th>3</th>\n",
       "      <td>Cyst- (1261)</td>\n",
       "      <td>[[0, 0, 0, 0, 0, 0, 0, 0, 0, 0, 0, 0, 0, 0, 0,...</td>\n",
       "    </tr>\n",
       "    <tr>\n",
       "      <th>4</th>\n",
       "      <td>Cyst- (1774)</td>\n",
       "      <td>[[0, 0, 0, 0, 0, 0, 0, 0, 0, 0, 0, 0, 0, 0, 0,...</td>\n",
       "    </tr>\n",
       "    <tr>\n",
       "      <th>...</th>\n",
       "      <td>...</td>\n",
       "      <td>...</td>\n",
       "    </tr>\n",
       "    <tr>\n",
       "      <th>12441</th>\n",
       "      <td>Tumor- (209)</td>\n",
       "      <td>[[0, 0, 0, 0, 0, 0, 0, 0, 0, 0, 0, 0, 0, 0, 0,...</td>\n",
       "    </tr>\n",
       "    <tr>\n",
       "      <th>12442</th>\n",
       "      <td>Tumor- (1390)</td>\n",
       "      <td>[[0, 0, 0, 0, 0, 0, 0, 0, 0, 0, 0, 0, 0, 0, 0,...</td>\n",
       "    </tr>\n",
       "    <tr>\n",
       "      <th>12443</th>\n",
       "      <td>Tumor- (659)</td>\n",
       "      <td>[[0, 0, 0, 0, 0, 0, 0, 0, 0, 0, 0, 0, 0, 0, 0,...</td>\n",
       "    </tr>\n",
       "    <tr>\n",
       "      <th>12444</th>\n",
       "      <td>Tumor- (1685)</td>\n",
       "      <td>[[0, 0, 0, 0, 0, 0, 0, 0, 0, 0, 0, 0, 0, 0, 0,...</td>\n",
       "    </tr>\n",
       "    <tr>\n",
       "      <th>12445</th>\n",
       "      <td>Tumor- (2103)</td>\n",
       "      <td>[[0, 0, 0, 0, 0, 0, 0, 0, 0, 0, 0, 0, 0, 0, 0,...</td>\n",
       "    </tr>\n",
       "  </tbody>\n",
       "</table>\n",
       "<p>12446 rows × 2 columns</p>\n",
       "</div>"
      ],
      "text/plain": [
       "            image_id                                              image\n",
       "0        Cyst- (630)  [[0, 0, 0, 0, 0, 0, 0, 0, 0, 0, 0, 0, 0, 0, 0,...\n",
       "1        Cyst- (260)  [[0, 0, 0, 0, 0, 0, 0, 0, 0, 0, 0, 0, 0, 0, 0,...\n",
       "2       Cyst- (1631)  [[0, 0, 0, 0, 0, 0, 0, 0, 0, 0, 0, 0, 0, 0, 0,...\n",
       "3       Cyst- (1261)  [[0, 0, 0, 0, 0, 0, 0, 0, 0, 0, 0, 0, 0, 0, 0,...\n",
       "4       Cyst- (1774)  [[0, 0, 0, 0, 0, 0, 0, 0, 0, 0, 0, 0, 0, 0, 0,...\n",
       "...              ...                                                ...\n",
       "12441   Tumor- (209)  [[0, 0, 0, 0, 0, 0, 0, 0, 0, 0, 0, 0, 0, 0, 0,...\n",
       "12442  Tumor- (1390)  [[0, 0, 0, 0, 0, 0, 0, 0, 0, 0, 0, 0, 0, 0, 0,...\n",
       "12443   Tumor- (659)  [[0, 0, 0, 0, 0, 0, 0, 0, 0, 0, 0, 0, 0, 0, 0,...\n",
       "12444  Tumor- (1685)  [[0, 0, 0, 0, 0, 0, 0, 0, 0, 0, 0, 0, 0, 0, 0,...\n",
       "12445  Tumor- (2103)  [[0, 0, 0, 0, 0, 0, 0, 0, 0, 0, 0, 0, 0, 0, 0,...\n",
       "\n",
       "[12446 rows x 2 columns]"
      ]
     },
     "execution_count": 13,
     "metadata": {},
     "output_type": "execute_result"
    }
   ],
   "source": [
    "imgs"
   ]
  },
  {
   "cell_type": "code",
   "execution_count": 14,
   "metadata": {},
   "outputs": [],
   "source": [
    "# Make a dictionary of labels\n",
    "labelDictionary = {0: 'Cyst', 1: 'Normal', 2: 'Stone', 3:'Tumor'}"
   ]
  },
  {
   "cell_type": "code",
   "execution_count": 15,
   "metadata": {},
   "outputs": [],
   "source": [
    "# Merge with the other dataframe to get each image matched with its label\n",
    "imgWithLabel = imgs.merge(df, how = 'inner', on = 'image_id')\n",
    "imgWithLabel = imgWithLabel[['image', 'target']]"
   ]
  },
  {
   "cell_type": "code",
   "execution_count": 16,
   "metadata": {},
   "outputs": [
    {
     "name": "stdout",
     "output_type": "stream",
     "text": [
      "(12446,)\n"
     ]
    }
   ],
   "source": [
    "X = imgWithLabel['image'].to_numpy()\n",
    "y = imgWithLabel['target'].to_numpy()\n",
    "print(X.shape)\n"
   ]
  },
  {
   "cell_type": "markdown",
   "metadata": {},
   "source": [
    "### Perform SMOTE"
   ]
  },
  {
   "cell_type": "code",
   "execution_count": 17,
   "metadata": {},
   "outputs": [
    {
     "name": "stdout",
     "output_type": "stream",
     "text": [
      "(12446, 256, 256)\n",
      "(12446, 65536)\n"
     ]
    }
   ],
   "source": [
    "# Reshape/ unpack the array of images, then flatten it so it is prepared for smote\n",
    "X = np.array([x for x in X])\n",
    "print(X.shape)\n",
    "nsamples, nx, ny = X.shape\n",
    "X = X.reshape((nsamples,nx*ny))\n",
    "print(X.shape)"
   ]
  },
  {
   "cell_type": "code",
   "execution_count": 18,
   "metadata": {},
   "outputs": [
    {
     "data": {
      "image/png": "[encoded data removed]",
      "text/plain": [
       "<Figure size 640x480 with 1 Axes>"
      ]
     },
     "metadata": {},
     "output_type": "display_data"
    },
    {
     "data": {
      "image/png": "[encoded data removed]",
      "text/plain": [
       "<Figure size 640x480 with 1 Axes>"
      ]
     },
     "metadata": {},
     "output_type": "display_data"
    }
   ],
   "source": [
    "# SMOTE to balance classes\n",
    "\n",
    "# Original class distribution\n",
    "unique, counts = np.unique(y, return_counts=True)\n",
    "uniqueLables = [labelDictionary[x] for x in unique]\n",
    "plt.pie(counts, labels = uniqueLables)\n",
    "plt.title('Original Distribution')\n",
    "plt.show()\n",
    "\n",
    "# Perform SMOTE sampling\n",
    "oversample = SMOTE()\n",
    "Xsmote, ysmote = oversample.fit_resample(X, y)\n",
    "\n",
    "\n",
    "# Updated class distribution\n",
    "uniquesmote, countssmote = np.unique(ysmote, return_counts=True)\n",
    "uniqueLablessmote = [labelDictionary[x] for x in uniquesmote]\n",
    "plt.pie(countssmote, labels = uniqueLablessmote)\n",
    "plt.title('Post Smote Distribution')\n",
    "plt.show()"
   ]
  },
  {
   "cell_type": "markdown",
   "metadata": {},
   "source": [
    "### Shuffle & reshape the data"
   ]
  },
  {
   "cell_type": "code",
   "execution_count": 19,
   "metadata": {},
   "outputs": [],
   "source": [
    "np.random.seed(42)\n",
    "indices = np.arange(Xsmote.shape[0])\n",
    "shuffled_indices = np.random.permutation(indices)\n",
    "Xshuffled = Xsmote[shuffled_indices]\n",
    "yshuffled = ysmote[shuffled_indices]"
   ]
  },
  {
   "cell_type": "code",
   "execution_count": 20,
   "metadata": {},
   "outputs": [],
   "source": [
    "# Reshape the data to 4 dimensional data for model training\n",
    "Xshuffled = Xshuffled.reshape((20308,256,256,-1))"
   ]
  },
  {
   "cell_type": "code",
   "execution_count": 21,
   "metadata": {},
   "outputs": [],
   "source": [
    "# c = plt.imshow(Xshuffled[1,:,:,:],cmap='gray')\n",
    "# plt.show()"
   ]
  },
  {
   "cell_type": "markdown",
   "metadata": {},
   "source": [
    "### Train and test split"
   ]
  },
  {
   "cell_type": "code",
   "execution_count": 22,
   "metadata": {},
   "outputs": [],
   "source": [
    "X_train, X_test, y_train, y_test = train_test_split(Xshuffled, yshuffled, test_size=0.2, random_state=1)"
   ]
  },
  {
   "cell_type": "code",
   "execution_count": 23,
   "metadata": {},
   "outputs": [],
   "source": [
    "# Create an intermediary validation set \n",
    "X_train, X_val, y_train, y_val = train_test_split(X_train, y_train, test_size=0.25, random_state=1)"
   ]
  },
  {
   "cell_type": "markdown",
   "metadata": {},
   "source": [
    "### Image Augmentation"
   ]
  },
  {
   "cell_type": "code",
   "execution_count": 24,
   "metadata": {},
   "outputs": [],
   "source": [
    "# Create augmentation layers\n",
    "data_augmentation = keras.Sequential(\n",
    "    [\n",
    "        keras.layers.RandomFlip(\"horizontal\"),\n",
    "        keras.layers.RandomRotation(0.1),\n",
    "    ],\n",
    ")"
   ]
  },
  {
   "cell_type": "code",
   "execution_count": 25,
   "metadata": {},
   "outputs": [
    {
     "name": "stdout",
     "output_type": "stream",
     "text": [
      "(256, 256, 1)\n"
     ]
    }
   ],
   "source": [
    "example_image = X_train[2]\n",
    "print(example_image.shape)\n"
   ]
  },
  {
   "cell_type": "code",
   "execution_count": 26,
   "metadata": {},
   "outputs": [],
   "source": [
    "# def rotate_image(image):\n",
    "#     # Random angle between -20 and 20 degrees\n",
    "#     angle = np.random.uniform(-20, 20)\n",
    "#     rotated_image = np.interp(np.arange(len(image)), np.arange(len(image)) + angle, image, left=0, right=0)\n",
    "#     return rotated_image\n",
    "\n",
    "# def zoom_image(image):\n",
    "#     # Random zoom factor between 0.8 and 1.2\n",
    "#     zoom_factor = np.random.uniform(0.8, 1.2)\n",
    "#     zoomed_image = np.interp(np.arange(len(image)), np.arange(len(image)) * zoom_factor, image, left=0, right=0)\n",
    "#     return zoomed_image\n",
    "\n",
    "# def flip_image(image):\n",
    "#     # Randomly flip the image horizontally\n",
    "#     if np.random.rand() > 0.5:\n",
    "#         flipped_image = np.flip(image)\n",
    "#     else:\n",
    "#         flipped_image = image\n",
    "#     return flipped_image\n",
    "\n",
    "# def augment_image(image):\n",
    "#     # Apply rotation\n",
    "#     rotated_image = rotate_image(image)\n",
    "    \n",
    "#     # Apply zoom\n",
    "#     zoomed_image = zoom_image(rotated_image)\n",
    "    \n",
    "#     # Apply flip\n",
    "#     flipped_image = flip_image(zoomed_image)\n",
    "\n",
    "#     return flipped_image\n",
    "\n",
    "# # Perform image augmentation on the training data\n",
    "# X_train_augmented = [augment_image(image) for image in X_train]\n",
    "\n",
    "# # Convert the augmented data back to NumPy array\n",
    "# X_train_augmented = np.array(X_train_augmented)\n",
    "\n",
    "# # Concatenate the original and augmented data\n",
    "# X_train_combined = np.concatenate((X_train, X_train_augmented))\n",
    "# y_train_combined = np.concatenate((y_train, y_train.copy()))  \n",
    "\n",
    "# # Ensure X_train_combined and y_train_combined have the correct shapes\n",
    "# print(X_train_combined.shape)\n",
    "# print(y_train_combined.shape)\n",
    "\n"
   ]
  },
  {
   "cell_type": "code",
   "execution_count": 27,
   "metadata": {},
   "outputs": [],
   "source": [
    "# X_train = X_train_combined \n",
    "# y_train = y_train_combined"
   ]
  },
  {
   "cell_type": "code",
   "execution_count": 28,
   "metadata": {},
   "outputs": [],
   "source": [
    "# X_train = np.stack(X_train, axis=0)\n",
    "# Y_train = np.stack(y_train, axis=0)\n",
    "# X_test = np.stack(X_test, axis=0)\n",
    "# Y_test = np.stack(y_test, axis=0)"
   ]
  },
  {
   "cell_type": "markdown",
   "metadata": {},
   "source": [
    "### Create Models"
   ]
  },
  {
   "cell_type": "code",
   "execution_count": 29,
   "metadata": {},
   "outputs": [],
   "source": [
    "def build_multiclass_model(n_classes, learning_rate=0.01):\n",
    "    \"\"\"\n",
    "    Build a multi-class logistic regression model using Keras.\n",
    "\n",
    "    Args:\n",
    "    n_classes: Number of classes in the dataset\n",
    "    learning_rate: The desired learning rate for SGD.\n",
    "\n",
    "    Returns:\n",
    "    model: A tf.keras model (graph).\n",
    "    \"\"\"\n",
    "   \n",
    "    model = keras.Sequential([\n",
    "        data_augmentation,\n",
    "        keras.layers.Flatten(),\n",
    "        keras.layers.Dense(units=n_classes, activation=\"softmax\")\n",
    "    ])\n",
    "\n",
    "    optimizer = tf.keras.optimizers.SGD(learning_rate=learning_rate)\n",
    "\n",
    "    model.compile(loss='sparse_categorical_crossentropy',\n",
    "                optimizer=optimizer,\n",
    "                metrics=['accuracy'])\n",
    "    return model"
   ]
  },
  {
   "cell_type": "code",
   "execution_count": null,
   "metadata": {},
   "outputs": [
    {
     "name": "stdout",
     "output_type": "stream",
     "text": [
      "Epoch 1/5\n"
     ]
    }
   ],
   "source": [
    "tf.keras.backend.clear_session()\n",
    "tf.random.set_seed(0)\n",
    "\n",
    "model = build_multiclass_model(4, 0.01)\n",
    "\n",
    "history = model.fit(\n",
    "  x = X_train,\n",
    "  y = y_train,\n",
    "  epochs=5,\n",
    "  batch_size=128,\n",
    "  validation_split=0.1,\n",
    "  verbose=1)\n",
    "\n",
    "history = pd.DataFrame(history.history)\n",
    "display(history)"
   ]
  },
  {
   "cell_type": "code",
   "execution_count": null,
   "metadata": {},
   "outputs": [],
   "source": [
    "test_predictions = np.argmax(model.predict(X_val), axis=-1)\n",
    "print(test_predictions)"
   ]
  },
  {
   "cell_type": "code",
   "execution_count": null,
   "metadata": {},
   "outputs": [],
   "source": [
    "# Create a confusion matrix as a 2D array.\n",
    "confusion_matrix = tf.math.confusion_matrix(y_val, test_predictions)\n",
    "\n",
    "# Use a heatmap plot to display it.\n",
    "ax = sns.heatmap(confusion_matrix, annot=True, fmt='.3g', cmap='Blues',\n",
    "                 xticklabels=['Cyst','Normal','Stone','Tumor'], yticklabels=['Cyst','Normal','Stone','Tumor'], \n",
    "                 cbar=False)\n",
    "\n",
    "# Add axis labels.\n",
    "ax.set(xlabel='Predicted Label', ylabel='True Label')\n",
    "plt.show()"
   ]
  },
  {
   "cell_type": "code",
   "execution_count": null,
   "metadata": {},
   "outputs": [],
   "source": [
    "def build_model(n_classes,   #should we change the n_classes to 4? since we only have 4 classes\n",
    "                hidden_layer_sizes=[],\n",
    "                activation='relu',\n",
    "                optimizer='SGD',\n",
    "                learning_rate=0.01):\n",
    "    tf.keras.backend.clear_session()\n",
    "    np.random.seed(0)\n",
    "    tf.random.set_seed(0)\n",
    "    model = tf.keras.models.Sequential()\n",
    "    # Flatten the input shape\n",
    "    model.add(tf.keras.layers.Flatten())\n",
    "    # Add hidden layers\n",
    "    for layer_size in hidden_layer_sizes:\n",
    "        model.add(tf.keras.layers.Dense(layer_size, activation=activation))\n",
    "    #Add the last neural network layer\n",
    "    model.add(tf.keras.layers.Dense(units=n_classes, activation='softmax'))\n",
    "    if optimizer == 'SGD':\n",
    "        model.compile(optimizer=tf.keras.optimizers.SGD(learning_rate=learning_rate),\n",
    "                      loss='sparse_categorical_crossentropy',\n",
    "                      metrics=['accuracy'])\n",
    "    elif optimizer == 'Adam':\n",
    "        model.compile(optimizer=tf.keras.optimizers.Adam(learning_rate=learning_rate),\n",
    "                      loss='sparse_categorical_crossentropy',\n",
    "                      metrics=['accuracy'])\n",
    "    elif optimizer == 'RMSprop':\n",
    "        model.compile(optimizer=tf.keras.optimizers.RMSprop(learning_rate=learning_rate),\n",
    "                      loss='sparse_categorical_crossentropy',\n",
    "                      metrics=['accuracy'])\n",
    "    else:\n",
    "        raise ValueError(\"Invalid optimizer. Please choose from ‘SGD’, ‘Adam’, or ‘RMSprop’.\")\n",
    "    return model\n"
   ]
  },
  {
   "cell_type": "code",
   "execution_count": null,
   "metadata": {},
   "outputs": [],
   "source": [
    "# Change the shape\n",
    "#### I don't think we need these anymore since I reshaped before smote!\n",
    "# X_train = np.array([np.asarray(x).flatten() for x in X_train]).astype(np.float32)\n",
    "# y_train = np.array([np.asarray(y) for y in y_train]).astype(np.float32)\n",
    "# X_test = np.array([np.asarray(x).flatten() for x in X_train]).astype(np.float32)\n",
    "# y_test = np.array([np.asarray(y) for y in y_train]).astype(np.float32)\n",
    "\n",
    "\n",
    "\n",
    "# Build and compile the model\n",
    "model = build_model(n_classes=4, hidden_layer_sizes=[128], activation='relu', optimizer='SGD', learning_rate=0.01)\n",
    "\n",
    "# Train the model for 5 epochs\n",
    "history = model.fit(X_train, y_train, epochs=5, batch_size=64, validation_split=0.1, verbose=1)\n",
    "test_loss, test_accuracy = model.evaluate(X_test, y_test, verbose=2)\n",
    "\n",
    "\n"
   ]
  },
  {
   "cell_type": "code",
   "execution_count": null,
   "metadata": {},
   "outputs": [],
   "source": [
    "model = build_model(n_classes=4, hidden_layer_sizes=[128], activation='relu', optimizer='RMSprop', learning_rate=0.01)\n",
    "\n",
    "# Train the model for 5 epochs\n",
    "history = model.fit(X_train, y_train, epochs=5, batch_size=64, validation_split=0.1, verbose=1)\n",
    "test_loss, test_accuracy = model.evaluate(X_test, y_test, verbose=2)"
   ]
  },
  {
   "cell_type": "code",
   "execution_count": null,
   "metadata": {},
   "outputs": [],
   "source": [
    "model = build_model(n_classes=4, hidden_layer_sizes=[128], activation='relu', optimizer='Adam', learning_rate=0.01)\n",
    "\n",
    "# Train the model for 5 epochs\n",
    "history = model.fit(X_train, y_train, epochs=5, batch_size=64, validation_split=0.1, verbose=1)\n",
    "test_loss, test_accuracy = model.evaluate(X_test, y_test, verbose=2)"
   ]
  }
 ],
 "metadata": {
  "accelerator": "GPU",
  "colab": {
   "gpuType": "T4",
   "provenance": []
  },
  "kernelspec": {
   "display_name": "myenv207",
   "language": "python",
   "name": "myenv207"
  },
  "language_info": {
   "codemirror_mode": {
    "name": "ipython",
    "version": 3
   },
   "file_extension": ".py",
   "mimetype": "text/x-python",
   "name": "python",
   "nbconvert_exporter": "python",
   "pygments_lexer": "ipython3",
   "version": "3.11.5"
  }
 },
 "nbformat": 4,
 "nbformat_minor": 4
}
